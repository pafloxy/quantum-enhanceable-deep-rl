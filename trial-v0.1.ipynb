{
 "cells": [
  {
   "cell_type": "code",
   "execution_count": 65,
   "metadata": {},
   "outputs": [],
   "source": [
    "import torch\n",
    "from agents.debn_ps import *\n",
    "from environments.env_gridworld import *\n",
    "from tqdm import tqdm \n",
    "from torchsummary import summary\n",
    "from torch import tensor\n",
    "\n",
    "import seaborn as sns"
   ]
  },
  {
   "cell_type": "markdown",
   "metadata": {},
   "source": [
    "### **TEST RUN on AGENT/ENVIRONMENT/DEBN modules**"
   ]
  },
  {
   "cell_type": "markdown",
   "metadata": {},
   "source": [
    "#### EXPERIMENTS on ENVIRONMENT"
   ]
  },
  {
   "cell_type": "code",
   "execution_count": 2,
   "metadata": {},
   "outputs": [],
   "source": [
    "envs = TaskEnvironment((10,10)) ##(10x10 rectangular gridworld)"
   ]
  },
  {
   "cell_type": "code",
   "execution_count": 3,
   "metadata": {},
   "outputs": [
    {
     "data": {
      "text/plain": [
       "(10, 10)"
      ]
     },
     "execution_count": 3,
     "metadata": {},
     "output_type": "execute_result"
    }
   ],
   "source": [
    "envs.num_percepts_list"
   ]
  },
  {
   "cell_type": "code",
   "execution_count": 4,
   "metadata": {},
   "outputs": [
    {
     "name": "stdout",
     "output_type": "stream",
     "text": [
      "pos i: [0 0]\n",
      "pos f: [0 0]\n"
     ]
    }
   ],
   "source": [
    "print('pos i:', envs.position )\n",
    "envs.step(1)\n",
    "envs.step(3)\n",
    "print('pos f:', envs.position )"
   ]
  },
  {
   "cell_type": "code",
   "execution_count": 6,
   "metadata": {},
   "outputs": [
    {
     "name": "stderr",
     "output_type": "stream",
     "text": [
      "100%|██████████| 1000/1000 [00:00<00:00, 5283.12it/s]\n"
     ]
    }
   ],
   "source": [
    "trajectory = []\n",
    "for _ in tqdm(range(1000)):\n",
    "    envs.step(np.random.choice([0,1,2,3]))\n",
    "    trajectory.append(envs.position)\n"
   ]
  },
  {
   "cell_type": "markdown",
   "metadata": {},
   "source": [
    "#### EXPERIMENTS on DEBN "
   ]
  },
  {
   "cell_type": "code",
   "execution_count": 10,
   "metadata": {},
   "outputs": [],
   "source": [
    "net = DEBN(8,4,dim_hidden_=[6])"
   ]
  },
  {
   "cell_type": "code",
   "execution_count": 80,
   "metadata": {},
   "outputs": [
    {
     "data": {
      "text/plain": [
       "{'visible.weight': tensor([[-0.0396,  0.1298, -0.0526, -0.0605, -0.4021, -0.4062, -0.2148, -0.6366,\n",
       "           0.6963,  0.6717,  0.2940,  0.4957],\n",
       "         [-0.6605,  0.3451,  0.3555, -0.4935,  0.0967, -0.3285,  0.0302,  0.4109,\n",
       "          -0.5419, -0.4694,  0.6518, -0.5471],\n",
       "         [ 0.2531,  0.0585,  0.6476, -0.5771, -0.5169,  0.0771, -0.6999, -0.1534,\n",
       "          -0.0040, -0.5897, -0.0990, -0.0070],\n",
       "         [-0.1227, -0.1482,  0.1690, -0.4544,  0.0503,  0.4100,  0.5283, -0.2683,\n",
       "          -0.0019,  0.2410,  0.0396,  0.2383],\n",
       "         [-0.5534, -0.3791,  0.4419, -0.3219, -0.5576, -0.0932, -0.1381, -0.4097,\n",
       "          -0.2747,  0.4922, -0.5464,  0.1395],\n",
       "         [ 0.0781, -0.0412,  0.4846,  0.7038, -0.5456, -0.0189, -0.5842, -0.0243,\n",
       "          -0.6919,  0.6442, -0.3532, -0.1010]]),\n",
       " 'visible.bias': tensor([-0.0505, -0.2618,  0.0659, -0.0226, -0.1042, -0.2786]),\n",
       " 'b_input.weight': tensor([[-0.0408,  0.2446, -0.2440, -0.1015, -0.0279, -0.2168, -0.1427, -0.2328,\n",
       "           0.0722,  0.2423,  0.1430, -0.0982]]),\n",
       " 'b_input.bias': tensor([0.]),\n",
       " 'output.weight': tensor([[1., 1., 1., 1., 1., 1., 1.]]),\n",
       " 'output.bias': tensor([-0.2842])}"
      ]
     },
     "execution_count": 80,
     "metadata": {},
     "output_type": "execute_result"
    }
   ],
   "source": [
    "param_dict = dict([(item[0], item[1].data) for item in net.named_parameters()])\n",
    "    \n",
    "    \n",
    "param_dict"
   ]
  },
  {
   "cell_type": "code",
   "execution_count": 82,
   "metadata": {},
   "outputs": [
    {
     "data": {
      "text/plain": [
       "array([-0.05051669, -0.26176426,  0.06592607, -0.02258434, -0.10423838,\n",
       "       -0.27863848, -0.04080069,  0.24458791, -0.24395695, -0.10152031,\n",
       "       -0.02794464, -0.2167844 , -0.14266838, -0.23284821,  0.07220743,\n",
       "        0.24231963,  0.14297189, -0.09822213], dtype=float32)"
      ]
     },
     "execution_count": 82,
     "metadata": {},
     "output_type": "execute_result"
    }
   ],
   "source": [
    "np.append(param_dict['visible.bias'].numpy(), param_dict['b_input.weight'].numpy() )"
   ]
  },
  {
   "cell_type": "code",
   "execution_count": 78,
   "metadata": {},
   "outputs": [
    {
     "data": {
      "text/plain": [
       "<AxesSubplot:>"
      ]
     },
     "execution_count": 78,
     "metadata": {},
     "output_type": "execute_result"
    },
    {
     "data": {
      "image/png": "[encoded data removed]",
      "text/plain": [
       "<Figure size 432x288 with 2 Axes>"
      ]
     },
     "metadata": {
      "needs_background": "light"
     },
     "output_type": "display_data"
    }
   ],
   "source": [
    "params = list(net.named_parameters())\n",
    "\n",
    "a = param_dict['visible.weight'].numpy()\n",
    "# a = a.transpose()\n",
    "\n",
    "z0 = np.zeros((a.shape[0],a.shape[0]))\n",
    "z1 = np.zeros((a.shape[1],a.shape[1]))\n",
    "\n",
    "up = np.concatenate((z0, a), axis= 1)\n",
    "down = np.concatenate( (a.transpose(), z1), axis= 1)\n",
    "\n",
    "mat = np.concatenate((up,down), axis= 0)\n",
    "\n",
    "sns.heatmap(mat)"
   ]
  },
  {
   "cell_type": "code",
   "execution_count": 83,
   "metadata": {},
   "outputs": [],
   "source": [
    "from qumcmc.energy_models import IsingEnergyFunction\n",
    "def build_energy_model(net: DEBN):\n",
    "    \"\"\" Works with only single hidden layer type RBMs \"\"\"\n",
    "    \n",
    "    model_dim = net.visible.in_features + net.visible.out_features\n",
    "    # named_params = list(net.named_parameters())\n",
    "    param_dict = dict([(item[0], item[1].data) for item in net.named_parameters()])\n",
    "\n",
    "    interactions = param_dict['visible.weight'].numpy()\n",
    "    z0 = np.zeros((a.shape[0],a.shape[0])); z1 = np.zeros((a.shape[1],a.shape[1]))\n",
    "    up = np.concatenate((z0, a), axis= 1); down = np.concatenate( (a.transpose(), z1), axis= 1)\n",
    "    J = np.concatenate((up,down), axis= 0)\n",
    "\n",
    "    biases = np.append(param_dict['visible.bias'].numpy(), param_dict['b_input.weight'].numpy() )\n",
    "\n",
    "    ##checks\n",
    "    assert model_dim == len(biases)\n",
    "    assert model_dim == J.shape[0] \n",
    "\n",
    "    ##construct model\n",
    "    model = IsingEnergyFunction(J, biases, \"DEBN\")\n",
    "\n",
    "    return model\n",
    "\n",
    "  "
   ]
  },
  {
   "cell_type": "code",
   "execution_count": 85,
   "metadata": {},
   "outputs": [],
   "source": [
    "net_model = build_energy_model(net)"
   ]
  },
  {
   "cell_type": "code",
   "execution_count": 33,
   "metadata": {},
   "outputs": [],
   "source": [
    "params= list(net.parameters())"
   ]
  },
  {
   "cell_type": "code",
   "execution_count": 89,
   "metadata": {},
   "outputs": [],
   "source": [
    "from qumcmc.classical_mcmc_routines import * \n",
    "from qumcmc.quantum_mcmc_routines_qulacs import *"
   ]
  },
  {
   "cell_type": "code",
   "execution_count": null,
   "metadata": {},
   "outputs": [],
   "source": []
  },
  {
   "cell_type": "code",
   "execution_count": 34,
   "metadata": {},
   "outputs": [
    {
     "data": {
      "text/plain": [
       "10"
      ]
     },
     "execution_count": 34,
     "metadata": {},
     "output_type": "execute_result"
    }
   ],
   "source": [
    "len(params)"
   ]
  },
  {
   "cell_type": "code",
   "execution_count": 35,
   "metadata": {},
   "outputs": [
    {
     "name": "stdout",
     "output_type": "stream",
     "text": [
      "torch.Size([6, 4])\n",
      "torch.Size([6])\n",
      "torch.Size([1, 4])\n",
      "torch.Size([1])\n",
      "torch.Size([5, 6])\n",
      "torch.Size([5])\n",
      "torch.Size([4, 5])\n",
      "torch.Size([4])\n",
      "torch.Size([1, 5])\n",
      "torch.Size([1])\n"
     ]
    }
   ],
   "source": [
    "for i in range(len(params)):\n",
    "    print(params[i].shape)"
   ]
  },
  {
   "cell_type": "code",
   "execution_count": 36,
   "metadata": {},
   "outputs": [
    {
     "name": "stdout",
     "output_type": "stream",
     "text": [
      "DEBN(\n",
      "  (visible): Linear(in_features=4, out_features=6, bias=True)\n",
      "  (b_input): Linear(in_features=4, out_features=1, bias=True)\n",
      "  (hidden): ModuleList(\n",
      "    (0): Linear(in_features=6, out_features=5, bias=True)\n",
      "    (1): Linear(in_features=5, out_features=4, bias=True)\n",
      "  )\n",
      "  (output): Linear(in_features=5, out_features=1, bias=True)\n",
      "  (dropout): ModuleList(\n",
      "    (0): Dropout(p=0.0, inplace=False)\n",
      "  )\n",
      ")\n"
     ]
    }
   ],
   "source": [
    "print(net)"
   ]
  },
  {
   "cell_type": "code",
   "execution_count": 37,
   "metadata": {},
   "outputs": [],
   "source": [
    "percept = tensor([[1.0,0,0,0]], dtype= float ); action = tensor([[0,1.0]], dtype= float)\n"
   ]
  },
  {
   "cell_type": "code",
   "execution_count": 38,
   "metadata": {},
   "outputs": [
    {
     "data": {
      "text/plain": [
       "tensor([[1., 0., 0., 0., 0., 1.]], dtype=torch.float64)"
      ]
     },
     "execution_count": 38,
     "metadata": {},
     "output_type": "execute_result"
    }
   ],
   "source": [
    "torch.cat((percept, action), dim= 1)"
   ]
  },
  {
   "cell_type": "code",
   "execution_count": 39,
   "metadata": {},
   "outputs": [],
   "source": [
    "from torch import nn\n"
   ]
  },
  {
   "cell_type": "code",
   "execution_count": null,
   "metadata": {},
   "outputs": [],
   "source": []
  },
  {
   "cell_type": "code",
   "execution_count": 40,
   "metadata": {},
   "outputs": [
    {
     "data": {
      "text/plain": [
       "(Parameter containing:\n",
       " tensor([[ 0.5851, -0.5535]], requires_grad=True),\n",
       " Parameter containing:\n",
       " tensor([0.4076], requires_grad=True))"
      ]
     },
     "execution_count": 40,
     "metadata": {},
     "output_type": "execute_result"
    }
   ],
   "source": [
    "tnet = nn.Linear(2,1)\n",
    "tnet.weight , tnet.bias"
   ]
  },
  {
   "cell_type": "markdown",
   "metadata": {},
   "source": [
    "#### Experiments on AGENTS"
   ]
  },
  {
   "cell_type": "code",
   "execution_count": 6,
   "metadata": {},
   "outputs": [],
   "source": [
    "# INTERACTION PARAMETERS #\n",
    "#------------------------#\n",
    "EPISODES = 100  # number of episodes for each agent 2000\n",
    "MAX_STEPS_PER_TRIAL = 50  # number of allowed timesteps before reset 20000\n",
    "\n",
    "#agent parameters\n",
    "AGENT_NUMBER = 1\n",
    "DEVICE = 'cpu'\n",
    "AGENT_NAME = 'ebm'\n",
    "\n",
    "GAMMA = 0.99 # discount factor\n",
    "hidden_layers = 5 # number of hidden layers\n",
    "hidden_units_layer = 64 # number of hidden units\n",
    "NUM_HIDDEN = [int(round(hidden_units_layer))]*hidden_layers # list of hidden unit numbers list\n",
    "DROPOUT = [0.]*hidden_layers # dropout rate list\n",
    "LEARNING_RATE = 0.001 # learning rate\n",
    "CAPACITY = 500 # size of the memory\n",
    "BATCH_SIZE = 100 # size of the training batch for experience replay\n",
    "REPLAY_TIME = 50 # the time interval between each experience replay\n",
    "TARGET_UPDATE = 100 # update interval for the target network\n",
    "SAVE_MODEL = False #set to true to save state dict\n",
    "\n",
    "BETA_i = 0.001 # initial beta parameter for schedule\n",
    "BETA_f = 0.08 # final beta parameter for schedule\n",
    "SCHEDULE = 'htan' # name of the schedule\n",
    "if SCHEDULE == 'htan':\n",
    "    beta = np.tanh(np.linspace(BETA_i, BETA_f, EPISODES)) # tanh schedule\n",
    "elif SCHEDULE =='lin':\n",
    "    beta = np.linspace(BETA_i, BETA_f, EPISODES) # linear scchedule\n",
    "\n",
    "# ENVIRONMENT PARAMETERS\n",
    "ENV_NAME = 'gridworld' # environment name\n",
    "DIMENSIONS = [10,10] # 2D grid of size [10,10]\n",
    "env = TaskEnvironment(DIMENSIONS) #generate environment\n",
    "\n",
    "## 'percept_size' depends on the encdoing \n",
    "percept_size_oneh = DIMENSIONS[0]*DIMENSIONS[1] #size of the percept space \n",
    "percept_size_twoh = DIMENSIONS[0]+DIMENSIONS[1] #size of the percept space\n",
    "\n",
    "action_size = 4 # size of the action space\n",
    "\n",
    "#action encoding\n",
    "all_actions = torch.empty(0)\n",
    "for i in range(action_size):\n",
    "    a = torch.zeros((1, 1, action_size))\n",
    "    a = a.new_full((1, 1, action_size), 0.)\n",
    "    a[0, 0, i] = 1.\n",
    "    all_actions = torch.cat((all_actions, a))\n",
    "\n",
    "#percept encoding\n",
    "def to_two_hot(percept, dim):\n",
    "    \"\"\"\n",
    "    Two-hot encodes the 2D percept of positions.\n",
    "    \"\"\"\n",
    "    two_hot = np.zeros(dim[0]+dim[1]) ##added\n",
    "    two_hot[percept[0]] = 1\n",
    "    two_hot[dim[0]+percept[1]] = 1\n",
    "    return two_hot\n",
    "\n",
    "\n",
    "#percept encoding\n",
    "def to_one_hot(percept, dim):\n",
    "    \"\"\"\n",
    "    One-hot encodes the 2D percept of positions.\n",
    "    \"\"\"\n",
    "    one_hot = np.zeros(dim[0]*dim[1]) ## multiplied\n",
    "    \n",
    "    one_hot[dim[0]*percept[0] + percept[1]] = 1\n",
    "    \n",
    "    return one_hot    \n"
   ]
  },
  {
   "cell_type": "code",
   "execution_count": 7,
   "metadata": {},
   "outputs": [],
   "source": [
    "# DEFINE AGENT           #\n",
    "#------------------------#\n",
    "agent = DEBNAgent(percept_size_twoh, action_size, all_actions, dim_hidden=NUM_HIDDEN, dropout_rate=DROPOUT,\n",
    "                    device = DEVICE, learning_rate=LEARNING_RATE, capacity=CAPACITY, batch_size=BATCH_SIZE, replay_time=REPLAY_TIME,\n",
    "                    target_update = TARGET_UPDATE, gamma = GAMMA, train_output_weights = False)\n"
   ]
  },
  {
   "cell_type": "code",
   "execution_count": 8,
   "metadata": {},
   "outputs": [],
   "source": [
    "counter = 0\n",
    "#reset the environment\n",
    "percept = env.reset()\n",
    "percept = to_two_hot(percept, DIMENSIONS)\n",
    "percept = np.reshape(percept, [1, percept_size_twoh])\n",
    "percept = torch.Tensor(percept)\n",
    "reward = 0.\n",
    "done = False"
   ]
  },
  {
   "cell_type": "code",
   "execution_count": 9,
   "metadata": {},
   "outputs": [
    {
     "data": {
      "text/plain": [
       "tensor([[0., 0., 1., 0.]])"
      ]
     },
     "execution_count": 9,
     "metadata": {},
     "output_type": "execute_result"
    }
   ],
   "source": [
    "agent.deliberate(percept, 1)"
   ]
  },
  {
   "cell_type": "code",
   "execution_count": 10,
   "metadata": {},
   "outputs": [],
   "source": [
    "action = agent.deliberate_and_learn(percept, None, reward, GAMMA, done, 1.00)\n",
    "action = (action[0] == 1).nonzero().item()"
   ]
  },
  {
   "cell_type": "code",
   "execution_count": 11,
   "metadata": {},
   "outputs": [
    {
     "data": {
      "text/plain": [
       "(array([0, 0]), 0.0, False, None)"
      ]
     },
     "execution_count": 11,
     "metadata": {},
     "output_type": "execute_result"
    }
   ],
   "source": [
    "env.step(action)"
   ]
  },
  {
   "cell_type": "code",
   "execution_count": 12,
   "metadata": {},
   "outputs": [
    {
     "data": {
      "text/plain": [
       "deque([])"
      ]
     },
     "execution_count": 12,
     "metadata": {},
     "output_type": "execute_result"
    }
   ],
   "source": [
    "agent._memory ## memory can only be accessed by the -> ._experience_replay function."
   ]
  },
  {
   "cell_type": "code",
   "execution_count": 13,
   "metadata": {},
   "outputs": [
    {
     "name": "stderr",
     "output_type": "stream",
     "text": [
      "running episodes: 100%|██████████| 100/100 [00:24<00:00,  4.01it/s]\n"
     ]
    }
   ],
   "source": [
    "EPISODES = 100\n",
    "MAX_STEPS_PER_TRIAL = 100\n",
    "verbose = False\n",
    "coords = []\n",
    "# RUN TRAINING STEPS     #\n",
    "#------------------------#\n",
    "timesteps = []\n",
    "for e in tqdm(range(EPISODES), desc= 'running episodes'):\n",
    "    counter = 0\n",
    "    #reset the environment\n",
    "    percept = env.reset()\n",
    "    coords.append(percept) ## coords stroing \n",
    "    # percept = to_one_hot(percept,DIMENSIONS)\n",
    "    # percept = np.reshape(percept, [1, percept_size_oneh])\n",
    "    percept = to_two_hot(percept,DIMENSIONS)\n",
    "    percept = np.reshape(percept, [1, percept_size_twoh])\n",
    "    percept = torch.Tensor(percept)\n",
    "    reward = 0.\n",
    "    done = False\n",
    "    # for t in tqdm(range(1, MAX_STEPS_PER_TRIAL + 1), desc= 'runnnig episode . .. '+str(e) ):\n",
    "    for t in range(1, MAX_STEPS_PER_TRIAL + 1):\n",
    "        \n",
    "        action = agent.deliberate_and_learn(percept, None, reward, GAMMA, done, beta[e])\n",
    "        action = (action[0] == 1).nonzero().item()\n",
    "        percept, reward, done, _ = env.step(action)\n",
    "        coords.append(percept) ## coords storing \n",
    "\n",
    "        if verbose :  print('action : '+str( action) + ' percept : ' + str(percept) + ' reward : '+ str( reward))\n",
    "        # percept = to_one_hot(percept, DIMENSIONS)\n",
    "        # percept = np.reshape(percept, [1, percept_size_oneh])\n",
    "        percept = to_two_hot(percept,DIMENSIONS)\n",
    "        percept = np.reshape(percept, [1, percept_size_twoh])\n",
    "        percept = torch.Tensor(percept)\n",
    "        \n",
    "        if t==MAX_STEPS_PER_TRIAL:\n",
    "            reward = -1\n",
    "            done = True\n",
    "        if done:\n",
    "            agent.deliberate_and_learn(percept, None, reward, GAMMA, done, beta[e])\n",
    "            timesteps.append(t)\n",
    "            break\n",
    "\n",
    "    if e%100 == 0:\n",
    "        if verbose : print(\"Average last 100 scores (timesteps per episode) the agent achieved at \" + str(e) + \": \", np.mean(timesteps[-100:]))\n",
    "        # save data to file\n"
   ]
  },
  {
   "cell_type": "code",
   "execution_count": 14,
   "metadata": {},
   "outputs": [
    {
     "name": "stdout",
     "output_type": "stream",
     "text": [
      "name:  visible.weight\n",
      "Parameter containing:\n",
      "tensor([[ 0.0449, -0.2254, -0.4175,  ...,  0.0458,  0.3926, -0.0613],\n",
      "        [-0.4060,  0.4356, -0.2775,  ..., -0.3680,  0.3119,  0.3668],\n",
      "        [ 0.0592,  0.2603, -0.2611,  ...,  0.4962,  0.4127, -0.2776],\n",
      "        ...,\n",
      "        [-0.3497,  0.4776,  0.1852,  ...,  0.4501, -0.2937, -0.2344],\n",
      "        [ 0.0961,  0.3703, -0.4555,  ..., -0.4946, -0.2124, -0.0314],\n",
      "        [ 0.0401, -0.4553,  0.0347,  ...,  0.0938,  0.2364, -0.3500]],\n",
      "       requires_grad=True)\n",
      "name:  visible.bias\n",
      "Parameter containing:\n",
      "tensor([ 0.0536,  0.1416,  0.1019, -0.2162,  0.1122,  0.1202, -0.0601, -0.1794,\n",
      "        -0.1176, -0.1909, -0.1880, -0.0050, -0.0583,  0.1286,  0.1195, -0.0009,\n",
      "         0.1337, -0.1534,  0.1513, -0.0972, -0.0113,  0.1527, -0.1549, -0.1757,\n",
      "         0.1373,  0.0723, -0.0173,  0.0557, -0.1566,  0.0817, -0.0437, -0.1931,\n",
      "        -0.1572,  0.1767,  0.0347, -0.1259, -0.1572, -0.0654, -0.1528, -0.0699,\n",
      "        -0.0284,  0.0332,  0.0488, -0.0044,  0.1765, -0.1606,  0.0882, -0.0570,\n",
      "        -0.0212,  0.1819,  0.0052, -0.2092,  0.0598,  0.1191,  0.0300,  0.1756,\n",
      "        -0.2013,  0.0049,  0.0462, -0.1896, -0.0953,  0.0545, -0.0487, -0.0517],\n",
      "       requires_grad=True)\n",
      "name:  b_input.weight\n",
      "Parameter containing:\n",
      "tensor([[-0.1872, -0.1450,  0.0005, -0.0410, -0.1674, -0.0515,  0.0358, -0.1039,\n",
      "          0.0290,  0.0190,  0.0604, -0.1653,  0.1769, -0.1799, -0.1658, -0.1856,\n",
      "          0.0243, -0.2024,  0.0778, -0.0064,  0.0099, -0.1839,  0.1291, -0.1829]],\n",
      "       requires_grad=True)\n",
      "name:  b_input.bias\n",
      "Parameter containing:\n",
      "tensor([0.])\n",
      "name:  hidden.0.weight\n",
      "Parameter containing:\n",
      "tensor([[ 0.0690, -0.2614, -0.1717,  ...,  0.2805,  0.0211,  0.2026],\n",
      "        [-0.2523,  0.2436,  0.2592,  ...,  0.1865, -0.2446,  0.2824],\n",
      "        [ 0.0477, -0.2554, -0.3030,  ..., -0.1330,  0.0334, -0.1344],\n",
      "        ...,\n",
      "        [-0.2400, -0.1555,  0.2476,  ...,  0.0744,  0.1548,  0.1975],\n",
      "        [-0.0070, -0.1588,  0.2907,  ...,  0.2733, -0.0703, -0.1909],\n",
      "        [-0.1028,  0.1611, -0.1910,  ...,  0.2617, -0.1589, -0.1881]],\n",
      "       requires_grad=True)\n",
      "name:  hidden.0.bias\n",
      "Parameter containing:\n",
      "tensor([-0.0967,  0.0683, -0.0368,  0.0840,  0.0257,  0.1035,  0.1175,  0.1181,\n",
      "         0.0946,  0.0093, -0.0125, -0.1059, -0.0631, -0.0085, -0.0704,  0.0786,\n",
      "        -0.1232, -0.0226, -0.1066,  0.0873, -0.0488, -0.1065, -0.0217, -0.1203,\n",
      "         0.0911, -0.0732, -0.0739,  0.0807, -0.0613, -0.0557,  0.0923,  0.1031,\n",
      "         0.0890, -0.0720,  0.0518, -0.0168,  0.1201, -0.1098,  0.0268,  0.1114,\n",
      "        -0.0532, -0.0830, -0.1022, -0.0027, -0.1007,  0.0192, -0.0846, -0.0117,\n",
      "        -0.1091,  0.0993, -0.0904,  0.0077,  0.0101, -0.1226, -0.0263, -0.0349,\n",
      "        -0.0052, -0.0865, -0.0992,  0.0691,  0.1195,  0.0831,  0.0067, -0.0975],\n",
      "       requires_grad=True)\n",
      "name:  hidden.1.weight\n",
      "Parameter containing:\n",
      "tensor([[ 0.1402,  0.0824, -0.2410,  ...,  0.2685,  0.3100, -0.1301],\n",
      "        [ 0.0798, -0.0576,  0.0465,  ..., -0.2547,  0.2642,  0.0809],\n",
      "        [ 0.0677, -0.0264,  0.1018,  ...,  0.2782, -0.2166,  0.0614],\n",
      "        ...,\n",
      "        [ 0.1422,  0.0091,  0.0493,  ..., -0.2024,  0.2607,  0.0622],\n",
      "        [-0.1958,  0.1540,  0.0139,  ...,  0.0032,  0.2065, -0.2317],\n",
      "        [-0.0775,  0.1310, -0.0017,  ...,  0.1664, -0.0090, -0.1426]],\n",
      "       requires_grad=True)\n",
      "name:  hidden.1.bias\n",
      "Parameter containing:\n",
      "tensor([-0.0646,  0.0463, -0.0296,  0.1030,  0.0452, -0.0439,  0.1001, -0.0653,\n",
      "        -0.0758, -0.0598,  0.0050, -0.0692, -0.0776, -0.1187, -0.0114, -0.0432,\n",
      "         0.0141, -0.1128, -0.0852, -0.0639, -0.1098, -0.1359,  0.0588,  0.0545,\n",
      "         0.0831, -0.0691, -0.0045, -0.0953,  0.0694, -0.1053,  0.0490,  0.0813,\n",
      "        -0.1124,  0.0824, -0.0239,  0.0909,  0.0311,  0.0742, -0.0596,  0.0481,\n",
      "         0.0089,  0.0341,  0.0252, -0.0287, -0.0186,  0.0928,  0.0229, -0.0052,\n",
      "        -0.1292, -0.0654,  0.0572,  0.0479,  0.0211,  0.1228, -0.0770, -0.0857,\n",
      "         0.1197, -0.0661, -0.0615,  0.0911, -0.0028,  0.0925, -0.0460,  0.0672],\n",
      "       requires_grad=True)\n",
      "name:  hidden.2.weight\n",
      "Parameter containing:\n",
      "tensor([[-0.2198, -0.3050,  0.0447,  ...,  0.2488,  0.0568,  0.1703],\n",
      "        [-0.1474, -0.0381,  0.3059,  ..., -0.1612,  0.0457,  0.2262],\n",
      "        [ 0.0866,  0.1375,  0.1937,  ..., -0.1391, -0.2668,  0.2916],\n",
      "        ...,\n",
      "        [-0.1826,  0.2412, -0.0664,  ..., -0.1060,  0.1738, -0.1579],\n",
      "        [-0.0399, -0.2922,  0.1838,  ..., -0.1080, -0.0234, -0.0423],\n",
      "        [ 0.0645,  0.0008, -0.1618,  ...,  0.2322,  0.0549,  0.0604]],\n",
      "       requires_grad=True)\n",
      "name:  hidden.2.bias\n",
      "Parameter containing:\n",
      "tensor([ 6.4451e-02, -5.4609e-03, -1.0405e-01,  4.3081e-02,  4.8894e-02,\n",
      "        -8.1792e-02, -1.5379e-02, -5.8076e-02, -6.4633e-02,  7.8977e-02,\n",
      "        -1.2295e-02,  2.4360e-02, -7.5150e-02,  2.3397e-03, -8.9988e-02,\n",
      "        -5.6052e-03, -1.4504e-01, -6.2103e-02, -8.2786e-02, -1.1896e-01,\n",
      "         5.2418e-02,  2.6779e-02, -1.1399e-01, -4.8815e-02, -5.3676e-04,\n",
      "        -4.3875e-02, -1.8602e-02, -1.5132e-02,  5.7836e-02,  6.4438e-02,\n",
      "         2.9702e-02,  8.8709e-02, -7.6617e-02,  9.9301e-02, -7.3477e-02,\n",
      "        -6.3551e-02, -8.1677e-02,  3.6134e-02, -1.9925e-02, -9.7020e-02,\n",
      "         9.7677e-03,  4.2778e-02, -4.8603e-02,  1.6744e-02,  9.1564e-02,\n",
      "         9.1974e-02,  5.9047e-02, -1.1564e-01, -8.4840e-02,  9.2037e-02,\n",
      "         3.5946e-03, -1.0561e-01,  3.9384e-03,  7.0778e-02,  7.9847e-02,\n",
      "        -7.7538e-02, -2.1767e-02, -1.3043e-01, -8.2169e-02, -7.3557e-02,\n",
      "         9.1232e-02, -2.7895e-05, -6.4142e-02,  9.6593e-02],\n",
      "       requires_grad=True)\n",
      "name:  hidden.3.weight\n",
      "Parameter containing:\n",
      "tensor([[-0.0617,  0.0948, -0.1895,  ...,  0.1975,  0.2573, -0.1553],\n",
      "        [ 0.0965, -0.0269,  0.0349,  ..., -0.2776, -0.2654, -0.2552],\n",
      "        [ 0.1470,  0.2207,  0.1552,  ...,  0.0241,  0.1214,  0.0608],\n",
      "        ...,\n",
      "        [-0.2895, -0.2033,  0.1824,  ...,  0.2007, -0.0691, -0.0677],\n",
      "        [-0.0124,  0.0749,  0.2125,  ...,  0.1745,  0.2009, -0.1528],\n",
      "        [ 0.2539, -0.2586, -0.1784,  ...,  0.2000,  0.0242, -0.0782]],\n",
      "       requires_grad=True)\n",
      "name:  hidden.3.bias\n",
      "Parameter containing:\n",
      "tensor([-0.0464,  0.0341,  0.0750,  0.0304,  0.0126,  0.0098, -0.1057, -0.0661,\n",
      "         0.0350, -0.0413, -0.1236, -0.1444,  0.0077, -0.0663, -0.0913, -0.1233,\n",
      "         0.1048, -0.0163, -0.0651,  0.1083, -0.0387,  0.0988,  0.0128,  0.1092,\n",
      "        -0.0592,  0.0072,  0.0664, -0.0906, -0.1103, -0.0172, -0.1102, -0.0361,\n",
      "         0.0981, -0.1315, -0.1060, -0.0412, -0.0606,  0.0783, -0.0883,  0.0444,\n",
      "        -0.0152, -0.1130, -0.1257,  0.0306,  0.0573, -0.0304,  0.0708, -0.0509,\n",
      "        -0.0475,  0.0662,  0.0123, -0.1369, -0.1059, -0.0125, -0.0147,  0.0975,\n",
      "        -0.0519, -0.1343,  0.0683, -0.0925, -0.1307,  0.0167,  0.0920,  0.0578],\n",
      "       requires_grad=True)\n",
      "name:  output.weight\n",
      "Parameter containing:\n",
      "tensor([[1., 1., 1., 1., 1., 1., 1., 1., 1., 1., 1., 1., 1., 1., 1., 1., 1., 1.,\n",
      "         1., 1., 1., 1., 1., 1., 1., 1., 1., 1., 1., 1., 1., 1., 1., 1., 1., 1.,\n",
      "         1., 1., 1., 1., 1., 1., 1., 1., 1., 1., 1., 1., 1., 1., 1., 1., 1., 1.,\n",
      "         1., 1., 1., 1., 1., 1., 1., 1., 1., 1., 1.]])\n",
      "name:  output.bias\n",
      "Parameter containing:\n",
      "tensor([0.0694], requires_grad=True)\n"
     ]
    }
   ],
   "source": [
    "for items in agent.policy_net.named_parameters():\n",
    "    print('name: ', items[0])\n",
    "    print(items[1])"
   ]
  },
  {
   "cell_type": "code",
   "execution_count": 49,
   "metadata": {},
   "outputs": [],
   "source": [
    "xs = []; ys = []\n",
    "for coord in coords: \n",
    "    xs.append(coord[0])\n",
    "    ys.append(coord[1])"
   ]
  },
  {
   "cell_type": "code",
   "execution_count": 50,
   "metadata": {},
   "outputs": [],
   "source": [
    "import matplotlib\n",
    "%matplotlib inline \n",
    "import  matplotlib.pyplot as plt\n",
    "from IPython.display import display, clear_output\n"
   ]
  },
  {
   "cell_type": "code",
   "execution_count": 51,
   "metadata": {},
   "outputs": [
    {
     "data": {
      "image/png": "[encoded data removed]",
      "text/plain": [
       "<Figure size 432x288 with 1 Axes>"
      ]
     },
     "metadata": {
      "needs_background": "light"
     },
     "output_type": "display_data"
    },
    {
     "name": "stderr",
     "output_type": "stream",
     "text": [
      "100%|██████████| 193/193 [00:28<00:00,  6.77it/s]\n"
     ]
    }
   ],
   "source": [
    "## visualise trajectory dynamically ## not very efficeint\n",
    "plt.figure(figsize=(12,12))\n",
    "for coord in tqdm(coords[::50]) :\n",
    "    plt.plot(coord[0], coord[1], 'o', 'r')\n",
    "    clear_output(wait= True)\n",
    "    plt.show()\n",
    "# plt.scatter(xs, ys )\n"
   ]
  },
  {
   "cell_type": "code",
   "execution_count": 52,
   "metadata": {},
   "outputs": [
    {
     "data": {
      "image/png": "[encoded data removed]",
      "text/plain": [
       "<Figure size 864x864 with 1 Axes>"
      ]
     },
     "metadata": {
      "needs_background": "light"
     },
     "output_type": "display_data"
    }
   ],
   "source": [
    "## visualise spots visited  ##\n",
    "plt.figure(figsize=(12,12))\n",
    "# for coord in tqdm(coords) :\n",
    "#     plt.plot(xs, ys, '-o', 'r')\n",
    "plt.scatter(xs, ys )\n",
    "plt.show()"
   ]
  }
 ],
 "metadata": {
  "kernelspec": {
   "display_name": "Python 3.10.6 64-bit",
   "language": "python",
   "name": "python3"
  },
  "language_info": {
   "codemirror_mode": {
    "name": "ipython",
    "version": 3
   },
   "file_extension": ".py",
   "mimetype": "text/x-python",
   "name": "python",
   "nbconvert_exporter": "python",
   "pygments_lexer": "ipython3",
   "version": "3.10.6"
  },
  "orig_nbformat": 4,
  "vscode": {
   "interpreter": {
    "hash": "916dbcbb3f70747c44a77c7bcd40155683ae19c65e1c03b4aa3499c5328201f1"
   }
  }
 },
 "nbformat": 4,
 "nbformat_minor": 2
}
