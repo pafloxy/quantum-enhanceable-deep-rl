{
 "cells": [
  {
   "cell_type": "code",
   "execution_count": 1,
   "metadata": {},
   "outputs": [],
   "source": [
    "import torch\n",
    "from agents.debn_ps import *\n",
    "from environments.env_gridworld import *\n",
    "from tqdm import tqdm \n",
    "from torchsummary import summary\n",
    "from torch import tensor\n",
    "\n",
    "import seaborn as sns"
   ]
  },
  {
   "cell_type": "code",
   "execution_count": 3,
   "metadata": {},
   "outputs": [],
   "source": [
    "from qumcmc.classical_mcmc_routines import * \n",
    "from qumcmc.quantum_mcmc_routines_qulacs import *\n",
    "from qumcmc.energy_models import IsingEnergyFunction, Exact_Sampling\n",
    "\n",
    "from agents.restricted_samplng import *"
   ]
  },
  {
   "cell_type": "markdown",
   "metadata": {},
   "source": [
    "### **TEST RUN on AGENT/ENVIRONMENT/DEBN modules**"
   ]
  },
  {
   "cell_type": "markdown",
   "metadata": {},
   "source": [
    "#### EXPERIMENTS on ENVIRONMENT"
   ]
  },
  {
   "cell_type": "code",
   "execution_count": 2,
   "metadata": {},
   "outputs": [],
   "source": [
    "envs = TaskEnvironment((10,10)) ##(10x10 rectangular gridworld)"
   ]
  },
  {
   "cell_type": "code",
   "execution_count": 3,
   "metadata": {},
   "outputs": [
    {
     "data": {
      "text/plain": [
       "(10, 10)"
      ]
     },
     "execution_count": 3,
     "metadata": {},
     "output_type": "execute_result"
    }
   ],
   "source": [
    "envs.num_percepts_list"
   ]
  },
  {
   "cell_type": "code",
   "execution_count": 4,
   "metadata": {},
   "outputs": [
    {
     "name": "stdout",
     "output_type": "stream",
     "text": [
      "pos i: [0 0]\n",
      "pos f: [0 0]\n"
     ]
    }
   ],
   "source": [
    "print('pos i:', envs.position )\n",
    "envs.step(1)\n",
    "envs.step(3)\n",
    "print('pos f:', envs.position )"
   ]
  },
  {
   "cell_type": "code",
   "execution_count": 6,
   "metadata": {},
   "outputs": [
    {
     "name": "stderr",
     "output_type": "stream",
     "text": [
      "100%|██████████| 1000/1000 [00:00<00:00, 5283.12it/s]\n"
     ]
    }
   ],
   "source": [
    "trajectory = []\n",
    "for _ in tqdm(range(1000)):\n",
    "    envs.step(np.random.choice([0,1,2,3]))\n",
    "    trajectory.append(envs.position)\n"
   ]
  },
  {
   "cell_type": "markdown",
   "metadata": {},
   "source": [
    "#### EXPERIMENTS on DEBN "
   ]
  },
  {
   "cell_type": "code",
   "execution_count": 10,
   "metadata": {},
   "outputs": [],
   "source": [
    "net = DEBN(8,4,dim_hidden_=[6])"
   ]
  },
  {
   "cell_type": "code",
   "execution_count": 80,
   "metadata": {},
   "outputs": [
    {
     "data": {
      "text/plain": [
       "{'visible.weight': tensor([[-0.0396,  0.1298, -0.0526, -0.0605, -0.4021, -0.4062, -0.2148, -0.6366,\n",
       "           0.6963,  0.6717,  0.2940,  0.4957],\n",
       "         [-0.6605,  0.3451,  0.3555, -0.4935,  0.0967, -0.3285,  0.0302,  0.4109,\n",
       "          -0.5419, -0.4694,  0.6518, -0.5471],\n",
       "         [ 0.2531,  0.0585,  0.6476, -0.5771, -0.5169,  0.0771, -0.6999, -0.1534,\n",
       "          -0.0040, -0.5897, -0.0990, -0.0070],\n",
       "         [-0.1227, -0.1482,  0.1690, -0.4544,  0.0503,  0.4100,  0.5283, -0.2683,\n",
       "          -0.0019,  0.2410,  0.0396,  0.2383],\n",
       "         [-0.5534, -0.3791,  0.4419, -0.3219, -0.5576, -0.0932, -0.1381, -0.4097,\n",
       "          -0.2747,  0.4922, -0.5464,  0.1395],\n",
       "         [ 0.0781, -0.0412,  0.4846,  0.7038, -0.5456, -0.0189, -0.5842, -0.0243,\n",
       "          -0.6919,  0.6442, -0.3532, -0.1010]]),\n",
       " 'visible.bias': tensor([-0.0505, -0.2618,  0.0659, -0.0226, -0.1042, -0.2786]),\n",
       " 'b_input.weight': tensor([[-0.0408,  0.2446, -0.2440, -0.1015, -0.0279, -0.2168, -0.1427, -0.2328,\n",
       "           0.0722,  0.2423,  0.1430, -0.0982]]),\n",
       " 'b_input.bias': tensor([0.]),\n",
       " 'output.weight': tensor([[1., 1., 1., 1., 1., 1., 1.]]),\n",
       " 'output.bias': tensor([-0.2842])}"
      ]
     },
     "execution_count": 80,
     "metadata": {},
     "output_type": "execute_result"
    }
   ],
   "source": [
    "param_dict = dict([(item[0], item[1].data) for item in net.named_parameters()])\n",
    "    \n",
    "    \n",
    "param_dict"
   ]
  },
  {
   "cell_type": "code",
   "execution_count": 82,
   "metadata": {},
   "outputs": [
    {
     "data": {
      "text/plain": [
       "array([-0.05051669, -0.26176426,  0.06592607, -0.02258434, -0.10423838,\n",
       "       -0.27863848, -0.04080069,  0.24458791, -0.24395695, -0.10152031,\n",
       "       -0.02794464, -0.2167844 , -0.14266838, -0.23284821,  0.07220743,\n",
       "        0.24231963,  0.14297189, -0.09822213], dtype=float32)"
      ]
     },
     "execution_count": 82,
     "metadata": {},
     "output_type": "execute_result"
    }
   ],
   "source": [
    "np.append(param_dict['visible.bias'].numpy(), param_dict['b_input.weight'].numpy() )"
   ]
  },
  {
   "cell_type": "code",
   "execution_count": 78,
   "metadata": {},
   "outputs": [
    {
     "data": {
      "text/plain": [
       "<AxesSubplot:>"
      ]
     },
     "execution_count": 78,
     "metadata": {},
     "output_type": "execute_result"
    },
    {
     "data": {
      "image/png": "[encoded data removed]",
      "text/plain": [
       "<Figure size 432x288 with 2 Axes>"
      ]
     },
     "metadata": {
      "needs_background": "light"
     },
     "output_type": "display_data"
    }
   ],
   "source": [
    "params = list(net.named_parameters())\n",
    "\n",
    "a = param_dict['visible.weight'].numpy()\n",
    "# a = a.transpose()\n",
    "\n",
    "z0 = np.zeros((a.shape[0],a.shape[0]))\n",
    "z1 = np.zeros((a.shape[1],a.shape[1]))\n",
    "\n",
    "up = np.concatenate((z0, a), axis= 1)\n",
    "down = np.concatenate( (a.transpose(), z1), axis= 1)\n",
    "\n",
    "mat = np.concatenate((up,down), axis= 0)\n",
    "\n",
    "sns.heatmap(mat)"
   ]
  },
  {
   "attachments": {},
   "cell_type": "markdown",
   "metadata": {},
   "source": [
    "#### New Definitions"
   ]
  },
  {
   "cell_type": "code",
   "execution_count": 2,
   "metadata": {},
   "outputs": [],
   "source": [
    "def build_energy_model(net: DEBN):\n",
    "    \"\"\" Works with only single hidden layer type RBMs \"\"\"\n",
    "    \n",
    "    model_dim = net.visible.in_features + net.visible.out_features\n",
    "    # named_params = list(net.named_parameters())\n",
    "    param_dict = dict([(item[0], item[1].data) for item in net.named_parameters()])\n",
    "\n",
    "    interactions = param_dict['visible.weight'].numpy()\n",
    "    z0 = np.zeros((interactions.shape[0],interactions.shape[0])); z1 = np.zeros((interactions.shape[1],interactions.shape[1]))\n",
    "    up = np.concatenate((z0, interactions), axis= 1); down = np.concatenate( (interactions.transpose(), z1), axis= 1)\n",
    "    J = np.concatenate((up,down), axis= 0)\n",
    "\n",
    "    biases = np.append(param_dict['visible.bias'].numpy(), param_dict['b_input.weight'].numpy() )\n",
    "\n",
    "    ##checks\n",
    "    assert model_dim == len(biases)\n",
    "    assert model_dim == J.shape[0] \n",
    "\n",
    "    ##construct model\n",
    "    model = IsingEnergyFunction(J, biases, \"DEBN\")\n",
    "\n",
    "    return model\n",
    "  "
   ]
  },
  {
   "cell_type": "code",
   "execution_count": 27,
   "metadata": {},
   "outputs": [],
   "source": [
    "net_model = build_energy_model(agent.policy_net)"
   ]
  },
  {
   "cell_type": "code",
   "execution_count": 28,
   "metadata": {},
   "outputs": [
    {
     "name": "stdout",
     "output_type": "stream",
     "text": [
      "=============================================\n",
      "            MODEL : DEBN\n",
      "=============================================\n",
      "Non-zero Interactions (J) : 60 / 136\n",
      "Non-zero Bias (h) : 17 / 17\n",
      "---------------------------------------------\n",
      "Average Interaction Strength <|J|> :  0.12600636763246828\n",
      "Average Bias Strength <|h|>:  0.12161576\n",
      "alpha :  1.4463409252129917\n",
      "---------------------------------------------\n"
     ]
    },
    {
     "data": {
      "image/png": "[encoded data removed]",
      "text/plain": [
       "<Figure size 1152x720 with 2 Axes>"
      ]
     },
     "metadata": {},
     "output_type": "display_data"
    }
   ],
   "source": [
    "net_model.model_summary()"
   ]
  },
  {
   "cell_type": "code",
   "execution_count": 29,
   "metadata": {},
   "outputs": [
    {
     "name": "stdout",
     "output_type": "stream",
     "text": [
      "Running Exact Sampling | beta :  1.0\n"
     ]
    },
    {
     "name": "stderr",
     "output_type": "stream",
     "text": [
      "running over all possible configurations: 100%|██████████| 131072/131072 [00:02<00:00, 47971.43it/s]\n"
     ]
    },
    {
     "name": "stdout",
     "output_type": "stream",
     "text": [
      "saving distribution to model ...\n"
     ]
    }
   ],
   "source": [
    "esm_net = Exact_Sampling(net_model)"
   ]
  },
  {
   "cell_type": "code",
   "execution_count": 30,
   "metadata": {},
   "outputs": [
    {
     "name": "stdout",
     "output_type": "stream",
     "text": [
      "=============================================\n",
      "     MODEL : DEBN |  beta : 1.0\n",
      "=============================================\n",
      "Num Most Probable States : 0\n",
      "Entropy : 10.941628033000923\n",
      "---------------------------------------------\n"
     ]
    },
    {
     "data": {
      "image/png": "[encoded data removed]",
      "text/plain": [
       "<Figure size 432x288 with 1 Axes>"
      ]
     },
     "metadata": {},
     "output_type": "display_data"
    }
   ],
   "source": [
    "esm_net.sampling_summary()"
   ]
  },
  {
   "cell_type": "code",
   "execution_count": 33,
   "metadata": {},
   "outputs": [],
   "source": [
    "params= list(net.parameters())"
   ]
  },
  {
   "cell_type": "code",
   "execution_count": 89,
   "metadata": {},
   "outputs": [],
   "source": [
    "from qumcmc.classical_mcmc_routines import * \n",
    "from qumcmc.quantum_mcmc_routines_qulacs import *"
   ]
  },
  {
   "cell_type": "code",
   "execution_count": 126,
   "metadata": {},
   "outputs": [
    {
     "name": "stdout",
     "output_type": "stream",
     "text": [
      "starting with:  010110110011001 with energy: 2.6806497145444155\n",
      "MCMCChain()\n"
     ]
    },
    {
     "name": "stderr",
     "output_type": "stream",
     "text": [
      "runnning quantum MCMC steps . ..: 100%|██████████| 1000/1000 [02:58<00:00,  5.61it/s]\n"
     ]
    }
   ],
   "source": [
    "qsmaple = quantum_enhanced_mcmc(1000, net_model)"
   ]
  },
  {
   "attachments": {},
   "cell_type": "markdown",
   "metadata": {},
   "source": [
    "#### TRIAL RUNS"
   ]
  },
  {
   "cell_type": "code",
   "execution_count": 20,
   "metadata": {},
   "outputs": [],
   "source": [
    "# INTERACTION PARAMETERS #\n",
    "#------------------------#\n",
    "EPISODES = 100  # number of episodes for each agent 2000\n",
    "MAX_STEPS_PER_TRIAL = 50  # number of allowed timesteps before reset 20000\n",
    "\n",
    "#agent parameters\n",
    "AGENT_NUMBER = 1\n",
    "DEVICE = 'cpu'\n",
    "AGENT_NAME = 'ebm'\n",
    "\n",
    "GAMMA = 0.99 # discount factor\n",
    "hidden_layers = 1 # number of hidden layers\n",
    "hidden_units_layer = 5 # number of hidden units\n",
    "NUM_HIDDEN = [int(round(hidden_units_layer))]*hidden_layers # list of hidden unit numbers list\n",
    "DROPOUT = [0.]*hidden_layers # dropout rate list\n",
    "LEARNING_RATE = 0.001 # learning rate\n",
    "CAPACITY = 500 # size of the memory\n",
    "BATCH_SIZE = 100 # size of the training batch for experience replay\n",
    "REPLAY_TIME = 50 # the time interval between each experience replay\n",
    "TARGET_UPDATE = 100 # update interval for the target network\n",
    "SAVE_MODEL = False #set to true to save state dict\n",
    "\n",
    "BETA_i = 0.001 # initial beta parameter for schedule\n",
    "BETA_f = 0.08 # final beta parameter for schedule\n",
    "SCHEDULE = 'htan' # name of the schedule\n",
    "if SCHEDULE == 'htan':\n",
    "    beta = np.tanh(np.linspace(BETA_i, BETA_f, EPISODES)) # tanh schedule\n",
    "elif SCHEDULE =='lin':\n",
    "    beta = np.linspace(BETA_i, BETA_f, EPISODES) # linear scchedule\n",
    "\n",
    "# ENVIRONMENT PARAMETERS\n",
    "ENV_NAME = 'gridworld' # environment name\n",
    "DIMENSIONS = [4,4] # 2D grid of size [10,10]\n",
    "env = TaskEnvironment(DIMENSIONS) #generate environment\n",
    "\n",
    "## 'percept_size' depends on the encdoing \n",
    "percept_size_oneh = DIMENSIONS[0]*DIMENSIONS[1] #size of the percept space \n",
    "percept_size_twoh = DIMENSIONS[0]+DIMENSIONS[1] #size of the percept space\n",
    "\n",
    "action_size = 4 # size of the action space\n",
    "\n",
    "#action encoding\n",
    "all_actions = torch.empty(0)\n",
    "for i in range(action_size):\n",
    "    a = torch.zeros((1, 1, action_size))\n",
    "    a = a.new_full((1, 1, action_size), 0.)\n",
    "    a[0, 0, i] = 1.\n",
    "    all_actions = torch.cat((all_actions, a))\n",
    "\n",
    "#percept encoding\n",
    "def to_two_hot(percept, dim):\n",
    "    \"\"\"\n",
    "    Two-hot encodes the 2D percept of positions.\n",
    "    \"\"\"\n",
    "    two_hot = np.zeros(dim[0]+dim[1]) ##added\n",
    "    two_hot[percept[0]] = 1\n",
    "    two_hot[dim[0]+percept[1]] = 1\n",
    "    return two_hot\n",
    "\n",
    "\n",
    "#percept encoding\n",
    "def to_one_hot(percept, dim):\n",
    "    \"\"\"\n",
    "    One-hot encodes the 2D percept of positions.\n",
    "    \"\"\"\n",
    "    one_hot = np.zeros(dim[0]*dim[1]) ## multiplied\n",
    "    \n",
    "    one_hot[dim[0]*percept[0] + percept[1]] = 1\n",
    "    \n",
    "    return one_hot    \n"
   ]
  },
  {
   "cell_type": "code",
   "execution_count": 17,
   "metadata": {},
   "outputs": [],
   "source": [
    "# DEFINE AGENT           #\n",
    "#------------------------#\n",
    "agent = DEBNAgent(percept_size_twoh, action_size, all_actions, dim_hidden=NUM_HIDDEN, dropout_rate=DROPOUT,\n",
    "                    device = DEVICE, learning_rate=LEARNING_RATE, capacity=CAPACITY, batch_size=BATCH_SIZE, replay_time=REPLAY_TIME,\n",
    "                    target_update = TARGET_UPDATE, gamma = GAMMA, train_output_weights = False)\n"
   ]
  },
  {
   "cell_type": "code",
   "execution_count": 21,
   "metadata": {},
   "outputs": [
    {
     "name": "stderr",
     "output_type": "stream",
     "text": [
      "running episodes: 100%|██████████| 100/100 [00:06<00:00, 14.54it/s]\n"
     ]
    }
   ],
   "source": [
    "EPISODES = 100\n",
    "MAX_STEPS_PER_TRIAL = 100\n",
    "verbose = False\n",
    "coords = []\n",
    "# RUN TRAINING STEPS     #\n",
    "#------------------------#\n",
    "timesteps = []\n",
    "for e in tqdm(range(EPISODES), desc= 'running episodes'):\n",
    "    counter = 0\n",
    "    #reset the environment\n",
    "    percept = env.reset()\n",
    "    coords.append(percept) ## coords stroing \n",
    "    # percept = to_one_hot(percept,DIMENSIONS)\n",
    "    # percept = np.reshape(percept, [1, percept_size_oneh])\n",
    "    percept = to_two_hot(percept,DIMENSIONS)\n",
    "    percept = np.reshape(percept, [1, percept_size_twoh])\n",
    "    percept = torch.Tensor(percept)\n",
    "    reward = 0.\n",
    "    done = False\n",
    "    # for t in tqdm(range(1, MAX_STEPS_PER_TRIAL + 1), desc= 'runnnig episode . .. '+str(e) ):\n",
    "    for t in range(1, MAX_STEPS_PER_TRIAL + 1):\n",
    "        \n",
    "        action = agent.deliberate_and_learn(percept, None, reward, GAMMA, done, beta[e])\n",
    "        action = (action[0] == 1).nonzero().item()\n",
    "        percept, reward, done, _ = env.step(action)\n",
    "        coords.append(percept) ## coords storing \n",
    "\n",
    "        if verbose :  print('action : '+str( action) + ' percept : ' + str(percept) + ' reward : '+ str( reward))\n",
    "        # percept = to_one_hot(percept, DIMENSIONS)\n",
    "        # percept = np.reshape(percept, [1, percept_size_oneh])\n",
    "        percept = to_two_hot(percept,DIMENSIONS)\n",
    "        percept = np.reshape(percept, [1, percept_size_twoh])\n",
    "        percept = torch.Tensor(percept)\n",
    "        \n",
    "        if t==MAX_STEPS_PER_TRIAL:\n",
    "            reward = -1\n",
    "            done = True\n",
    "        if done:\n",
    "            agent.deliberate_and_learn(percept, None, reward, GAMMA, done, beta[e])\n",
    "            timesteps.append(t)\n",
    "            break\n",
    "\n",
    "    if e%100 == 0:\n",
    "        if verbose : print(\"Average last 100 scores (timesteps per episode) the agent achieved at \" + str(e) + \": \", np.mean(timesteps[-100:]))\n",
    "        # save data to file\n"
   ]
  },
  {
   "cell_type": "code",
   "execution_count": 22,
   "metadata": {},
   "outputs": [],
   "source": [
    "xs = []; ys = []\n",
    "for coord in coords: \n",
    "    xs.append(coord[0])\n",
    "    ys.append(coord[1])"
   ]
  },
  {
   "cell_type": "code",
   "execution_count": 23,
   "metadata": {},
   "outputs": [],
   "source": [
    "import matplotlib\n",
    "%matplotlib inline \n",
    "import  matplotlib.pyplot as plt\n",
    "from IPython.display import display, clear_output\n",
    "sns.set()"
   ]
  },
  {
   "cell_type": "code",
   "execution_count": 26,
   "metadata": {},
   "outputs": [
    {
     "name": "stderr",
     "output_type": "stream",
     "text": [
      "  1%|          | 61/5250 [00:16<23:26,  3.69it/s]\n"
     ]
    },
    {
     "ename": "KeyboardInterrupt",
     "evalue": "",
     "output_type": "error",
     "traceback": [
      "\u001b[0;31m---------------------------------------------------------------------------\u001b[0m",
      "\u001b[0;31mKeyboardInterrupt\u001b[0m                         Traceback (most recent call last)",
      "\u001b[1;32m/home/rajarsi/Documents/QRL@qosf_c6/quantum-enhanceable-deep-rl/trial-v0.1.ipynb Cell 29\u001b[0m in \u001b[0;36m<cell line: 3>\u001b[0;34m()\u001b[0m\n\u001b[1;32m      <a href='vscode-notebook-cell:/home/rajarsi/Documents/QRL%40qosf_c6/quantum-enhanceable-deep-rl/trial-v0.1.ipynb#X55sZmlsZQ%3D%3D?line=3'>4</a>\u001b[0m plt\u001b[39m.\u001b[39mplot(coord[\u001b[39m0\u001b[39m], coord[\u001b[39m1\u001b[39m], \u001b[39m'\u001b[39m\u001b[39mo\u001b[39m\u001b[39m'\u001b[39m, \u001b[39m'\u001b[39m\u001b[39mr\u001b[39m\u001b[39m'\u001b[39m)\n\u001b[1;32m      <a href='vscode-notebook-cell:/home/rajarsi/Documents/QRL%40qosf_c6/quantum-enhanceable-deep-rl/trial-v0.1.ipynb#X55sZmlsZQ%3D%3D?line=4'>5</a>\u001b[0m clear_output(wait\u001b[39m=\u001b[39m \u001b[39mTrue\u001b[39;00m)\n\u001b[0;32m----> <a href='vscode-notebook-cell:/home/rajarsi/Documents/QRL%40qosf_c6/quantum-enhanceable-deep-rl/trial-v0.1.ipynb#X55sZmlsZQ%3D%3D?line=5'>6</a>\u001b[0m plt\u001b[39m.\u001b[39;49mshow()\n",
      "File \u001b[0;32m~/.local/lib/python3.10/site-packages/matplotlib/pyplot.py:389\u001b[0m, in \u001b[0;36mshow\u001b[0;34m(*args, **kwargs)\u001b[0m\n\u001b[1;32m    345\u001b[0m \u001b[39m\"\"\"\u001b[39;00m\n\u001b[1;32m    346\u001b[0m \u001b[39mDisplay all open figures.\u001b[39;00m\n\u001b[1;32m    347\u001b[0m \n\u001b[0;32m   (...)\u001b[0m\n\u001b[1;32m    386\u001b[0m \u001b[39mexplicitly there.\u001b[39;00m\n\u001b[1;32m    387\u001b[0m \u001b[39m\"\"\"\u001b[39;00m\n\u001b[1;32m    388\u001b[0m _warn_if_gui_out_of_main_thread()\n\u001b[0;32m--> 389\u001b[0m \u001b[39mreturn\u001b[39;00m _get_backend_mod()\u001b[39m.\u001b[39;49mshow(\u001b[39m*\u001b[39;49margs, \u001b[39m*\u001b[39;49m\u001b[39m*\u001b[39;49mkwargs)\n",
      "File \u001b[0;32m~/.local/lib/python3.10/site-packages/matplotlib_inline/backend_inline.py:41\u001b[0m, in \u001b[0;36mshow\u001b[0;34m(close, block)\u001b[0m\n\u001b[1;32m     39\u001b[0m \u001b[39mtry\u001b[39;00m:\n\u001b[1;32m     40\u001b[0m     \u001b[39mfor\u001b[39;00m figure_manager \u001b[39min\u001b[39;00m Gcf\u001b[39m.\u001b[39mget_all_fig_managers():\n\u001b[0;32m---> 41\u001b[0m         display(\n\u001b[1;32m     42\u001b[0m             figure_manager\u001b[39m.\u001b[39;49mcanvas\u001b[39m.\u001b[39;49mfigure,\n\u001b[1;32m     43\u001b[0m             metadata\u001b[39m=\u001b[39;49m_fetch_figure_metadata(figure_manager\u001b[39m.\u001b[39;49mcanvas\u001b[39m.\u001b[39;49mfigure)\n\u001b[1;32m     44\u001b[0m         )\n\u001b[1;32m     45\u001b[0m \u001b[39mfinally\u001b[39;00m:\n\u001b[1;32m     46\u001b[0m     show\u001b[39m.\u001b[39m_to_draw \u001b[39m=\u001b[39m []\n",
      "File \u001b[0;32m~/.local/lib/python3.10/site-packages/IPython/core/display_functions.py:298\u001b[0m, in \u001b[0;36mdisplay\u001b[0;34m(include, exclude, metadata, transient, display_id, raw, clear, *objs, **kwargs)\u001b[0m\n\u001b[1;32m    296\u001b[0m     publish_display_data(data\u001b[39m=\u001b[39mobj, metadata\u001b[39m=\u001b[39mmetadata, \u001b[39m*\u001b[39m\u001b[39m*\u001b[39mkwargs)\n\u001b[1;32m    297\u001b[0m \u001b[39melse\u001b[39;00m:\n\u001b[0;32m--> 298\u001b[0m     format_dict, md_dict \u001b[39m=\u001b[39m \u001b[39mformat\u001b[39;49m(obj, include\u001b[39m=\u001b[39;49minclude, exclude\u001b[39m=\u001b[39;49mexclude)\n\u001b[1;32m    299\u001b[0m     \u001b[39mif\u001b[39;00m \u001b[39mnot\u001b[39;00m format_dict:\n\u001b[1;32m    300\u001b[0m         \u001b[39m# nothing to display (e.g. _ipython_display_ took over)\u001b[39;00m\n\u001b[1;32m    301\u001b[0m         \u001b[39mcontinue\u001b[39;00m\n",
      "File \u001b[0;32m~/.local/lib/python3.10/site-packages/IPython/core/formatters.py:178\u001b[0m, in \u001b[0;36mDisplayFormatter.format\u001b[0;34m(self, obj, include, exclude)\u001b[0m\n\u001b[1;32m    176\u001b[0m md \u001b[39m=\u001b[39m \u001b[39mNone\u001b[39;00m\n\u001b[1;32m    177\u001b[0m \u001b[39mtry\u001b[39;00m:\n\u001b[0;32m--> 178\u001b[0m     data \u001b[39m=\u001b[39m formatter(obj)\n\u001b[1;32m    179\u001b[0m \u001b[39mexcept\u001b[39;00m:\n\u001b[1;32m    180\u001b[0m     \u001b[39m# FIXME: log the exception\u001b[39;00m\n\u001b[1;32m    181\u001b[0m     \u001b[39mraise\u001b[39;00m\n",
      "File \u001b[0;32m~/.local/lib/python3.10/site-packages/decorator.py:232\u001b[0m, in \u001b[0;36mdecorate.<locals>.fun\u001b[0;34m(*args, **kw)\u001b[0m\n\u001b[1;32m    230\u001b[0m \u001b[39mif\u001b[39;00m \u001b[39mnot\u001b[39;00m kwsyntax:\n\u001b[1;32m    231\u001b[0m     args, kw \u001b[39m=\u001b[39m fix(args, kw, sig)\n\u001b[0;32m--> 232\u001b[0m \u001b[39mreturn\u001b[39;00m caller(func, \u001b[39m*\u001b[39;49m(extras \u001b[39m+\u001b[39;49m args), \u001b[39m*\u001b[39;49m\u001b[39m*\u001b[39;49mkw)\n",
      "File \u001b[0;32m~/.local/lib/python3.10/site-packages/IPython/core/formatters.py:222\u001b[0m, in \u001b[0;36mcatch_format_error\u001b[0;34m(method, self, *args, **kwargs)\u001b[0m\n\u001b[1;32m    220\u001b[0m \u001b[39m\"\"\"show traceback on failed format call\"\"\"\u001b[39;00m\n\u001b[1;32m    221\u001b[0m \u001b[39mtry\u001b[39;00m:\n\u001b[0;32m--> 222\u001b[0m     r \u001b[39m=\u001b[39m method(\u001b[39mself\u001b[39;49m, \u001b[39m*\u001b[39;49margs, \u001b[39m*\u001b[39;49m\u001b[39m*\u001b[39;49mkwargs)\n\u001b[1;32m    223\u001b[0m \u001b[39mexcept\u001b[39;00m \u001b[39mNotImplementedError\u001b[39;00m:\n\u001b[1;32m    224\u001b[0m     \u001b[39m# don't warn on NotImplementedErrors\u001b[39;00m\n\u001b[1;32m    225\u001b[0m     \u001b[39mreturn\u001b[39;00m \u001b[39mself\u001b[39m\u001b[39m.\u001b[39m_check_return(\u001b[39mNone\u001b[39;00m, args[\u001b[39m0\u001b[39m])\n",
      "File \u001b[0;32m~/.local/lib/python3.10/site-packages/IPython/core/formatters.py:339\u001b[0m, in \u001b[0;36mBaseFormatter.__call__\u001b[0;34m(self, obj)\u001b[0m\n\u001b[1;32m    337\u001b[0m     \u001b[39mpass\u001b[39;00m\n\u001b[1;32m    338\u001b[0m \u001b[39melse\u001b[39;00m:\n\u001b[0;32m--> 339\u001b[0m     \u001b[39mreturn\u001b[39;00m printer(obj)\n\u001b[1;32m    340\u001b[0m \u001b[39m# Finally look for special method names\u001b[39;00m\n\u001b[1;32m    341\u001b[0m method \u001b[39m=\u001b[39m get_real_method(obj, \u001b[39mself\u001b[39m\u001b[39m.\u001b[39mprint_method)\n",
      "File \u001b[0;32m~/.local/lib/python3.10/site-packages/IPython/core/pylabtools.py:151\u001b[0m, in \u001b[0;36mprint_figure\u001b[0;34m(fig, fmt, bbox_inches, base64, **kwargs)\u001b[0m\n\u001b[1;32m    148\u001b[0m     \u001b[39mfrom\u001b[39;00m \u001b[39mmatplotlib\u001b[39;00m\u001b[39m.\u001b[39;00m\u001b[39mbackend_bases\u001b[39;00m \u001b[39mimport\u001b[39;00m FigureCanvasBase\n\u001b[1;32m    149\u001b[0m     FigureCanvasBase(fig)\n\u001b[0;32m--> 151\u001b[0m fig\u001b[39m.\u001b[39;49mcanvas\u001b[39m.\u001b[39;49mprint_figure(bytes_io, \u001b[39m*\u001b[39;49m\u001b[39m*\u001b[39;49mkw)\n\u001b[1;32m    152\u001b[0m data \u001b[39m=\u001b[39m bytes_io\u001b[39m.\u001b[39mgetvalue()\n\u001b[1;32m    153\u001b[0m \u001b[39mif\u001b[39;00m fmt \u001b[39m==\u001b[39m \u001b[39m'\u001b[39m\u001b[39msvg\u001b[39m\u001b[39m'\u001b[39m:\n",
      "File \u001b[0;32m~/.local/lib/python3.10/site-packages/matplotlib/backend_bases.py:2299\u001b[0m, in \u001b[0;36mFigureCanvasBase.print_figure\u001b[0;34m(self, filename, dpi, facecolor, edgecolor, orientation, format, bbox_inches, pad_inches, bbox_extra_artists, backend, **kwargs)\u001b[0m\n\u001b[1;32m   2297\u001b[0m \u001b[39mif\u001b[39;00m bbox_inches:\n\u001b[1;32m   2298\u001b[0m     \u001b[39mif\u001b[39;00m bbox_inches \u001b[39m==\u001b[39m \u001b[39m\"\u001b[39m\u001b[39mtight\u001b[39m\u001b[39m\"\u001b[39m:\n\u001b[0;32m-> 2299\u001b[0m         bbox_inches \u001b[39m=\u001b[39m \u001b[39mself\u001b[39;49m\u001b[39m.\u001b[39;49mfigure\u001b[39m.\u001b[39;49mget_tightbbox(\n\u001b[1;32m   2300\u001b[0m             renderer, bbox_extra_artists\u001b[39m=\u001b[39;49mbbox_extra_artists)\n\u001b[1;32m   2301\u001b[0m         \u001b[39mif\u001b[39;00m pad_inches \u001b[39mis\u001b[39;00m \u001b[39mNone\u001b[39;00m:\n\u001b[1;32m   2302\u001b[0m             pad_inches \u001b[39m=\u001b[39m rcParams[\u001b[39m'\u001b[39m\u001b[39msavefig.pad_inches\u001b[39m\u001b[39m'\u001b[39m]\n",
      "File \u001b[0;32m~/.local/lib/python3.10/site-packages/matplotlib/figure.py:1684\u001b[0m, in \u001b[0;36mFigureBase.get_tightbbox\u001b[0;34m(self, renderer, bbox_extra_artists)\u001b[0m\n\u001b[1;32m   1681\u001b[0m     artists \u001b[39m=\u001b[39m bbox_extra_artists\n\u001b[1;32m   1683\u001b[0m \u001b[39mfor\u001b[39;00m a \u001b[39min\u001b[39;00m artists:\n\u001b[0;32m-> 1684\u001b[0m     bbox \u001b[39m=\u001b[39m a\u001b[39m.\u001b[39;49mget_tightbbox(renderer)\n\u001b[1;32m   1685\u001b[0m     \u001b[39mif\u001b[39;00m bbox \u001b[39mis\u001b[39;00m \u001b[39mnot\u001b[39;00m \u001b[39mNone\u001b[39;00m \u001b[39mand\u001b[39;00m (bbox\u001b[39m.\u001b[39mwidth \u001b[39m!=\u001b[39m \u001b[39m0\u001b[39m \u001b[39mor\u001b[39;00m bbox\u001b[39m.\u001b[39mheight \u001b[39m!=\u001b[39m \u001b[39m0\u001b[39m):\n\u001b[1;32m   1686\u001b[0m         bb\u001b[39m.\u001b[39mappend(bbox)\n",
      "File \u001b[0;32m~/.local/lib/python3.10/site-packages/matplotlib/axis.py:1111\u001b[0m, in \u001b[0;36mAxis.get_tightbbox\u001b[0;34m(self, renderer, for_layout_only)\u001b[0m\n\u001b[1;32m   1107\u001b[0m \u001b[39m# go back to just this axis's tick labels\u001b[39;00m\n\u001b[1;32m   1108\u001b[0m ticklabelBoxes, ticklabelBoxes2 \u001b[39m=\u001b[39m \u001b[39mself\u001b[39m\u001b[39m.\u001b[39m_get_tick_bboxes(\n\u001b[1;32m   1109\u001b[0m             ticks_to_draw, renderer)\n\u001b[0;32m-> 1111\u001b[0m \u001b[39mself\u001b[39;49m\u001b[39m.\u001b[39;49m_update_offset_text_position(ticklabelBoxes, ticklabelBoxes2)\n\u001b[1;32m   1112\u001b[0m \u001b[39mself\u001b[39m\u001b[39m.\u001b[39moffsetText\u001b[39m.\u001b[39mset_text(\u001b[39mself\u001b[39m\u001b[39m.\u001b[39mmajor\u001b[39m.\u001b[39mformatter\u001b[39m.\u001b[39mget_offset())\n\u001b[1;32m   1114\u001b[0m bboxes \u001b[39m=\u001b[39m [\n\u001b[1;32m   1115\u001b[0m     \u001b[39m*\u001b[39m(a\u001b[39m.\u001b[39mget_window_extent(renderer)\n\u001b[1;32m   1116\u001b[0m       \u001b[39mfor\u001b[39;00m a \u001b[39min\u001b[39;00m [\u001b[39mself\u001b[39m\u001b[39m.\u001b[39moffsetText]\n\u001b[0;32m   (...)\u001b[0m\n\u001b[1;32m   1119\u001b[0m     \u001b[39m*\u001b[39mticklabelBoxes2,\n\u001b[1;32m   1120\u001b[0m ]\n",
      "File \u001b[0;32m~/.local/lib/python3.10/site-packages/matplotlib/axis.py:2390\u001b[0m, in \u001b[0;36mYAxis._update_offset_text_position\u001b[0;34m(self, bboxes, bboxes2)\u001b[0m\n\u001b[1;32m   2388\u001b[0m     bbox \u001b[39m=\u001b[39m \u001b[39mself\u001b[39m\u001b[39m.\u001b[39maxes\u001b[39m.\u001b[39mbbox\n\u001b[1;32m   2389\u001b[0m top \u001b[39m=\u001b[39m bbox\u001b[39m.\u001b[39mymax\n\u001b[0;32m-> 2390\u001b[0m \u001b[39mself\u001b[39;49m\u001b[39m.\u001b[39;49moffsetText\u001b[39m.\u001b[39;49mset_position(\n\u001b[1;32m   2391\u001b[0m     (x, top \u001b[39m+\u001b[39;49m \u001b[39mself\u001b[39;49m\u001b[39m.\u001b[39;49mOFFSETTEXTPAD \u001b[39m*\u001b[39;49m \u001b[39mself\u001b[39;49m\u001b[39m.\u001b[39;49mfigure\u001b[39m.\u001b[39;49mdpi \u001b[39m/\u001b[39;49m \u001b[39m72\u001b[39;49m)\n\u001b[1;32m   2392\u001b[0m )\n",
      "File \u001b[0;32m~/.local/lib/python3.10/site-packages/matplotlib/text.py:1146\u001b[0m, in \u001b[0;36mText.set_position\u001b[0;34m(self, xy)\u001b[0m\n\u001b[1;32m   1138\u001b[0m \u001b[39mdef\u001b[39;00m \u001b[39mset_position\u001b[39m(\u001b[39mself\u001b[39m, xy):\n\u001b[1;32m   1139\u001b[0m     \u001b[39m\"\"\"\u001b[39;00m\n\u001b[1;32m   1140\u001b[0m \u001b[39m    Set the (*x*, *y*) position of the text.\u001b[39;00m\n\u001b[1;32m   1141\u001b[0m \n\u001b[0;32m   (...)\u001b[0m\n\u001b[1;32m   1144\u001b[0m \u001b[39m    xy : (float, float)\u001b[39;00m\n\u001b[1;32m   1145\u001b[0m \u001b[39m    \"\"\"\u001b[39;00m\n\u001b[0;32m-> 1146\u001b[0m     \u001b[39mself\u001b[39;49m\u001b[39m.\u001b[39;49mset_x(xy[\u001b[39m0\u001b[39;49m])\n\u001b[1;32m   1147\u001b[0m     \u001b[39mself\u001b[39m\u001b[39m.\u001b[39mset_y(xy[\u001b[39m1\u001b[39m])\n",
      "File \u001b[0;32m~/.local/lib/python3.10/site-packages/matplotlib/text.py:1158\u001b[0m, in \u001b[0;36mText.set_x\u001b[0;34m(self, x)\u001b[0m\n\u001b[1;32m   1150\u001b[0m \u001b[39m\"\"\"\u001b[39;00m\n\u001b[1;32m   1151\u001b[0m \u001b[39mSet the *x* position of the text.\u001b[39;00m\n\u001b[1;32m   1152\u001b[0m \n\u001b[0;32m   (...)\u001b[0m\n\u001b[1;32m   1155\u001b[0m \u001b[39mx : float\u001b[39;00m\n\u001b[1;32m   1156\u001b[0m \u001b[39m\"\"\"\u001b[39;00m\n\u001b[1;32m   1157\u001b[0m \u001b[39mself\u001b[39m\u001b[39m.\u001b[39m_x \u001b[39m=\u001b[39m x\n\u001b[0;32m-> 1158\u001b[0m \u001b[39mself\u001b[39m\u001b[39m.\u001b[39mstale \u001b[39m=\u001b[39m \u001b[39mTrue\u001b[39;00m\n",
      "File \u001b[0;32m~/.local/lib/python3.10/site-packages/matplotlib/artist.py:297\u001b[0m, in \u001b[0;36mArtist.stale\u001b[0;34m(self, val)\u001b[0m\n\u001b[1;32m    292\u001b[0m \u001b[39mself\u001b[39m\u001b[39m.\u001b[39m_stale \u001b[39m=\u001b[39m val\n\u001b[1;32m    294\u001b[0m \u001b[39m# if the artist is animated it does not take normal part in the\u001b[39;00m\n\u001b[1;32m    295\u001b[0m \u001b[39m# draw stack and is not expected to be drawn as part of the normal\u001b[39;00m\n\u001b[1;32m    296\u001b[0m \u001b[39m# draw loop (when not saving) so do not propagate this change\u001b[39;00m\n\u001b[0;32m--> 297\u001b[0m \u001b[39mif\u001b[39;00m \u001b[39mself\u001b[39;49m\u001b[39m.\u001b[39;49mget_animated():\n\u001b[1;32m    298\u001b[0m     \u001b[39mreturn\u001b[39;00m\n\u001b[1;32m    300\u001b[0m \u001b[39mif\u001b[39;00m val \u001b[39mand\u001b[39;00m \u001b[39mself\u001b[39m\u001b[39m.\u001b[39mstale_callback \u001b[39mis\u001b[39;00m \u001b[39mnot\u001b[39;00m \u001b[39mNone\u001b[39;00m:\n",
      "File \u001b[0;32m~/.local/lib/python3.10/site-packages/matplotlib/artist.py:832\u001b[0m, in \u001b[0;36mArtist.get_animated\u001b[0;34m(self)\u001b[0m\n\u001b[1;32m    829\u001b[0m     \u001b[39m\"\"\"Return the visibility.\"\"\"\u001b[39;00m\n\u001b[1;32m    830\u001b[0m     \u001b[39mreturn\u001b[39;00m \u001b[39mself\u001b[39m\u001b[39m.\u001b[39m_visible\n\u001b[0;32m--> 832\u001b[0m \u001b[39mdef\u001b[39;00m \u001b[39mget_animated\u001b[39m(\u001b[39mself\u001b[39m):\n\u001b[1;32m    833\u001b[0m     \u001b[39m\"\"\"Return whether the artist is animated.\"\"\"\u001b[39;00m\n\u001b[1;32m    834\u001b[0m     \u001b[39mreturn\u001b[39;00m \u001b[39mself\u001b[39m\u001b[39m.\u001b[39m_animated\n",
      "\u001b[0;31mKeyboardInterrupt\u001b[0m: "
     ]
    }
   ],
   "source": [
    "## visualise trajectory dynamically ## not very efficeint\n",
    "plt.figure(figsize=(12,12))\n",
    "for coord in tqdm(coords) :\n",
    "    plt.plot(coord[0], coord[1], 'o', 'r')\n",
    "    clear_output(wait= True)\n",
    "    plt.show()\n",
    "# plt.scatter(xs, ys )\n"
   ]
  },
  {
   "cell_type": "code",
   "execution_count": 25,
   "metadata": {},
   "outputs": [
    {
     "data": {
      "image/png": "[encoded data removed]",
      "text/plain": [
       "<Figure size 864x864 with 1 Axes>"
      ]
     },
     "metadata": {},
     "output_type": "display_data"
    }
   ],
   "source": [
    "## visualise spots visited  ##\n",
    "plt.figure(figsize=(12,12))\n",
    "# for coord in tqdm(coords) :\n",
    "#     plt.plot(xs, ys, '-o', 'r')\n",
    "plt.scatter(xs, ys )\n",
    "plt.show()"
   ]
  },
  {
   "cell_type": "code",
   "execution_count": null,
   "metadata": {},
   "outputs": [],
   "source": []
  },
  {
   "cell_type": "code",
   "execution_count": null,
   "metadata": {},
   "outputs": [],
   "source": []
  }
 ],
 "metadata": {
  "kernelspec": {
   "display_name": "Python 3.10.6 64-bit",
   "language": "python",
   "name": "python3"
  },
  "language_info": {
   "codemirror_mode": {
    "name": "ipython",
    "version": 3
   },
   "file_extension": ".py",
   "mimetype": "text/x-python",
   "name": "python",
   "nbconvert_exporter": "python",
   "pygments_lexer": "ipython3",
   "version": "3.10.6"
  },
  "orig_nbformat": 4,
  "vscode": {
   "interpreter": {
    "hash": "916dbcbb3f70747c44a77c7bcd40155683ae19c65e1c03b4aa3499c5328201f1"
   }
  }
 },
 "nbformat": 4,
 "nbformat_minor": 2
}
