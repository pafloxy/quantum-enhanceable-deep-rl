{
 "cells": [
  {
   "cell_type": "code",
   "execution_count": 1,
   "metadata": {},
   "outputs": [],
   "source": [
    "import torch\n",
    "from agents.debn_ps import *\n",
    "from environments.env_gridworld import *\n",
    "from tqdm import tqdm \n",
    "from torchsummary import summary\n",
    "from torch import tensor"
   ]
  },
  {
   "cell_type": "markdown",
   "metadata": {},
   "source": [
    "### **TEST RUN on AGENT/ENVIRONMENT/DEBN modules**"
   ]
  },
  {
   "cell_type": "markdown",
   "metadata": {},
   "source": [
    "#### EXPERIMENTS on ENVIRONMENT"
   ]
  },
  {
   "cell_type": "code",
   "execution_count": 62,
   "metadata": {},
   "outputs": [],
   "source": [
    "envs = TaskEnvironment((10,10)) ##(10x10 rectangular gridworld)"
   ]
  },
  {
   "cell_type": "code",
   "execution_count": 63,
   "metadata": {},
   "outputs": [
    {
     "data": {
      "text/plain": [
       "(10, 10)"
      ]
     },
     "execution_count": 63,
     "metadata": {},
     "output_type": "execute_result"
    }
   ],
   "source": [
    "envs.num_percepts_list"
   ]
  },
  {
   "cell_type": "code",
   "execution_count": 64,
   "metadata": {},
   "outputs": [
    {
     "name": "stdout",
     "output_type": "stream",
     "text": [
      "pos i: [0 0]\n",
      "pos f: [0 1]\n"
     ]
    }
   ],
   "source": [
    "print('pos i:', envs.position )\n",
    "envs.step(1)\n",
    "print('pos f:', envs.position )"
   ]
  },
  {
   "cell_type": "code",
   "execution_count": 65,
   "metadata": {},
   "outputs": [
    {
     "name": "stderr",
     "output_type": "stream",
     "text": [
      "100%|██████████| 1000/1000 [00:00<00:00, 3379.76it/s]\n"
     ]
    }
   ],
   "source": [
    "trajectory = []\n",
    "for _ in tqdm(range(1000)):\n",
    "    envs.step(np.random.choice([0,1,2,3]))\n",
    "    trajectory.append(envs.position)\n"
   ]
  },
  {
   "cell_type": "code",
   "execution_count": 66,
   "metadata": {},
   "outputs": [
    {
     "data": {
      "text/plain": [
       "[array([9, 9]),\n",
       " array([9, 9]),\n",
       " array([9, 9]),\n",
       " array([9, 9]),\n",
       " array([9, 9]),\n",
       " array([9, 9]),\n",
       " array([9, 9]),\n",
       " array([9, 9]),\n",
       " array([9, 9]),\n",
       " array([9, 9]),\n",
       " array([9, 9]),\n",
       " array([9, 9]),\n",
       " array([9, 9]),\n",
       " array([6, 9]),\n",
       " array([6, 9]),\n",
       " array([6, 9]),\n",
       " array([6, 9]),\n",
       " array([6, 9]),\n",
       " array([6, 9]),\n",
       " array([6, 9])]"
      ]
     },
     "execution_count": 66,
     "metadata": {},
     "output_type": "execute_result"
    }
   ],
   "source": [
    "trajectory[-1000::50]"
   ]
  },
  {
   "cell_type": "markdown",
   "metadata": {},
   "source": [
    "#### EXPERIMENTS on DEBN "
   ]
  },
  {
   "cell_type": "code",
   "execution_count": null,
   "metadata": {},
   "outputs": [],
   "source": [
    "net = DEBN(4,2,dim_hidden_=[10])"
   ]
  },
  {
   "cell_type": "code",
   "execution_count": null,
   "metadata": {},
   "outputs": [],
   "source": [
    "percept = tensor([[1.0,0,0,0]], dtype= float ); action = tensor([[0,1.0]], dtype= float)\n"
   ]
  },
  {
   "cell_type": "code",
   "execution_count": null,
   "metadata": {},
   "outputs": [],
   "source": [
    "torch.cat((percept, action), dim= 1)"
   ]
  },
  {
   "cell_type": "code",
   "execution_count": null,
   "metadata": {},
   "outputs": [],
   "source": [
    "net.forward(percept, action) ##simple forward pass "
   ]
  },
  {
   "cell_type": "code",
   "execution_count": null,
   "metadata": {},
   "outputs": [],
   "source": [
    "from torch import nn\n"
   ]
  },
  {
   "cell_type": "code",
   "execution_count": null,
   "metadata": {},
   "outputs": [],
   "source": [
    "tnet = nn.Linear(2,1)\n",
    "tnet.weight , tnet.bias"
   ]
  },
  {
   "cell_type": "code",
   "execution_count": null,
   "metadata": {},
   "outputs": [],
   "source": [
    "input = tensor([[1,0]])\n",
    "input = input.to(torch.float64); print(input)\n",
    "tnet.forward(input)"
   ]
  },
  {
   "cell_type": "markdown",
   "metadata": {},
   "source": [
    "#### Experiments on AGENTS"
   ]
  },
  {
   "cell_type": "code",
   "execution_count": 2,
   "metadata": {},
   "outputs": [],
   "source": [
    "# INTERACTION PARAMETERS #\n",
    "#------------------------#\n",
    "EPISODES = 100  # number of episodes for each agent 2000\n",
    "MAX_STEPS_PER_TRIAL = 50  # number of allowed timesteps before reset 20000\n",
    "\n",
    "#agent parameters\n",
    "AGENT_NUMBER = 1\n",
    "DEVICE = 'cpu'\n",
    "AGENT_NAME = 'ebm'\n",
    "\n",
    "GAMMA = 0.99 # discount factor\n",
    "hidden_layers = 5 # number of hidden layers\n",
    "hidden_units_layer = 64 # number of hidden units\n",
    "NUM_HIDDEN = [int(round(hidden_units_layer))]*hidden_layers # list of hidden unit numbers list\n",
    "DROPOUT = [0.]*hidden_layers # dropout rate list\n",
    "LEARNING_RATE = 0.001 # learning rate\n",
    "CAPACITY = 500 # size of the memory\n",
    "BATCH_SIZE = 100 # size of the training batch for experience replay\n",
    "REPLAY_TIME = 50 # the time interval between each experience replay\n",
    "TARGET_UPDATE = 100 # update interval for the target network\n",
    "SAVE_MODEL = False #set to true to save state dict\n",
    "\n",
    "BETA_i = 0.001 # initial beta parameter for schedule\n",
    "BETA_f = 0.08 # final beta parameter for schedule\n",
    "SCHEDULE = 'htan' # name of the schedule\n",
    "if SCHEDULE == 'htan':\n",
    "    beta = np.tanh(np.linspace(BETA_i, BETA_f, EPISODES)) # tanh schedule\n",
    "elif SCHEDULE =='lin':\n",
    "    beta = np.linspace(BETA_i, BETA_f, EPISODES) # linear scchedule\n",
    "\n",
    "# ENVIRONMENT PARAMETERS\n",
    "ENV_NAME = 'gridworld' # environment name\n",
    "DIMENSIONS = [10,10] # 2D grid of size [10,10]\n",
    "env = TaskEnvironment(DIMENSIONS) #generate environment\n",
    "\n",
    "## 'percept_size' depends on the encdoing \n",
    "percept_size_oneh = DIMENSIONS[0]*DIMENSIONS[1] #size of the percept space \n",
    "percept_size_twoh = DIMENSIONS[0]+DIMENSIONS[1] #size of the percept space\n",
    "\n",
    "action_size = 4 # size of the action space\n",
    "\n",
    "#action encoding\n",
    "all_actions = torch.empty(0)\n",
    "for i in range(action_size):\n",
    "    a = torch.zeros((1, 1, action_size))\n",
    "    a = a.new_full((1, 1, action_size), 0.)\n",
    "    a[0, 0, i] = 1.\n",
    "    all_actions = torch.cat((all_actions, a))\n",
    "\n",
    "#percept encoding\n",
    "def to_two_hot(percept, dim):\n",
    "    \"\"\"\n",
    "    Two-hot encodes the 2D percept of positions.\n",
    "    \"\"\"\n",
    "    two_hot = np.zeros(dim[0]+dim[1]) ##added\n",
    "    two_hot[percept[0]] = 1\n",
    "    two_hot[dim[0]+percept[1]] = 1\n",
    "    return two_hot\n",
    "\n",
    "\n",
    "#percept encoding\n",
    "def to_one_hot(percept, dim):\n",
    "    \"\"\"\n",
    "    One-hot encodes the 2D percept of positions.\n",
    "    \"\"\"\n",
    "    one_hot = np.zeros(dim[0]*dim[1]) ## multiplied\n",
    "    \n",
    "    one_hot[dim[0]*percept[0] + percept[1]] = 1\n",
    "    \n",
    "    return one_hot    \n"
   ]
  },
  {
   "cell_type": "code",
   "execution_count": 3,
   "metadata": {},
   "outputs": [],
   "source": [
    "# DEFINE AGENT           #\n",
    "#------------------------#\n",
    "agent = DEBNAgent(percept_size_twoh, action_size, all_actions, dim_hidden=NUM_HIDDEN, dropout_rate=DROPOUT,\n",
    "                    device = DEVICE, learning_rate=LEARNING_RATE, capacity=CAPACITY, batch_size=BATCH_SIZE, replay_time=REPLAY_TIME,\n",
    "                    target_update = TARGET_UPDATE, gamma = GAMMA, train_output_weights = False)\n"
   ]
  },
  {
   "cell_type": "code",
   "execution_count": 4,
   "metadata": {},
   "outputs": [],
   "source": [
    "counter = 0\n",
    "#reset the environment\n",
    "percept = env.reset()\n",
    "percept = to_two_hot(percept,DIMENSIONS)\n",
    "percept = np.reshape(percept, [1, percept_size_twoh])\n",
    "percept = torch.Tensor(percept)\n",
    "reward = 0.\n",
    "done = False"
   ]
  },
  {
   "cell_type": "code",
   "execution_count": 5,
   "metadata": {},
   "outputs": [
    {
     "data": {
      "text/plain": [
       "tensor([[0., 0., 1., 0.]])"
      ]
     },
     "execution_count": 5,
     "metadata": {},
     "output_type": "execute_result"
    }
   ],
   "source": [
    "agent.deliberate(percept, 1)"
   ]
  },
  {
   "cell_type": "code",
   "execution_count": 6,
   "metadata": {},
   "outputs": [],
   "source": [
    "action = agent.deliberate_and_learn(percept, None, reward, GAMMA, done, 1.00)\n",
    "action = (action[0] == 1).nonzero().item()"
   ]
  },
  {
   "cell_type": "code",
   "execution_count": 7,
   "metadata": {},
   "outputs": [
    {
     "data": {
      "text/plain": [
       "(array([0, 1]), 0.0, False, None)"
      ]
     },
     "execution_count": 7,
     "metadata": {},
     "output_type": "execute_result"
    }
   ],
   "source": [
    "env.step(action)"
   ]
  },
  {
   "cell_type": "code",
   "execution_count": 8,
   "metadata": {},
   "outputs": [
    {
     "data": {
      "text/plain": [
       "deque([])"
      ]
     },
     "execution_count": 8,
     "metadata": {},
     "output_type": "execute_result"
    }
   ],
   "source": [
    "agent._memory ## memory can only be accessed by the -> ._experience_replay function."
   ]
  },
  {
   "cell_type": "code",
   "execution_count": 4,
   "metadata": {},
   "outputs": [
    {
     "name": "stderr",
     "output_type": "stream",
     "text": [
      "running episodes: 100%|██████████| 100/100 [00:25<00:00,  3.92it/s]\n"
     ]
    }
   ],
   "source": [
    "EPISODES = 100\n",
    "MAX_STEPS_PER_TRIAL = 100\n",
    "verbose = False\n",
    "coords = []\n",
    "# RUN TRAINING STEPS     #\n",
    "#------------------------#\n",
    "timesteps = []\n",
    "for e in tqdm(range(EPISODES), desc= 'running episodes'):\n",
    "    counter = 0\n",
    "    #reset the environment\n",
    "    percept = env.reset()\n",
    "    coords.append(percept) ## coords stroing \n",
    "    # percept = to_one_hot(percept,DIMENSIONS)\n",
    "    # percept = np.reshape(percept, [1, percept_size_oneh])\n",
    "    percept = to_two_hot(percept,DIMENSIONS)\n",
    "    percept = np.reshape(percept, [1, percept_size_twoh])\n",
    "    percept = torch.Tensor(percept)\n",
    "    reward = 0.\n",
    "    done = False\n",
    "    # for t in tqdm(range(1, MAX_STEPS_PER_TRIAL + 1), desc= 'runnnig episode . .. '+str(e) ):\n",
    "    for t in range(1, MAX_STEPS_PER_TRIAL + 1):\n",
    "        \n",
    "        action = agent.deliberate_and_learn(percept, None, reward, GAMMA, done, beta[e])\n",
    "        action = (action[0] == 1).nonzero().item()\n",
    "        percept, reward, done, _ = env.step(action)\n",
    "        coords.append(percept) ## coords storing \n",
    "\n",
    "        if verbose :  print('action : '+str( action) + ' percept : ' + str(percept) + ' reward : '+ str( reward))\n",
    "        # percept = to_one_hot(percept, DIMENSIONS)\n",
    "        # percept = np.reshape(percept, [1, percept_size_oneh])\n",
    "        percept = to_two_hot(percept,DIMENSIONS)\n",
    "        percept = np.reshape(percept, [1, percept_size_twoh])\n",
    "        percept = torch.Tensor(percept)\n",
    "        \n",
    "        if t==MAX_STEPS_PER_TRIAL:\n",
    "            reward = -1\n",
    "            done = True\n",
    "        if done:\n",
    "            agent.deliberate_and_learn(percept, None, reward, GAMMA, done, beta[e])\n",
    "            timesteps.append(t)\n",
    "            break\n",
    "\n",
    "    if e%100 == 0:\n",
    "        if verbose : print(\"Average last 100 scores (timesteps per episode) the agent achieved at \" + str(e) + \": \", np.mean(timesteps[-100:]))\n",
    "        # save data to file\n"
   ]
  },
  {
   "cell_type": "code",
   "execution_count": 5,
   "metadata": {},
   "outputs": [],
   "source": [
    "xs = []; ys = []\n",
    "for coord in coords: \n",
    "    xs.append(coord[0])\n",
    "    ys.append(coord[1])"
   ]
  },
  {
   "cell_type": "code",
   "execution_count": 15,
   "metadata": {},
   "outputs": [],
   "source": [
    "import matplotlib\n",
    "%matplotlib inline \n",
    "import  matplotlib.pyplot as plt\n",
    "from IPython.display import display, clear_output\n"
   ]
  },
  {
   "cell_type": "code",
   "execution_count": 21,
   "metadata": {},
   "outputs": [
    {
     "data": {
      "image/png": "[encoded data removed]",
      "text/plain": [
       "<Figure size 432x288 with 1 Axes>"
      ]
     },
     "metadata": {
      "needs_background": "light"
     },
     "output_type": "display_data"
    },
    {
     "name": "stderr",
     "output_type": "stream",
     "text": [
      "100%|██████████| 200/200 [00:34<00:00,  5.86it/s]\n"
     ]
    }
   ],
   "source": [
    "## visualise trajectory dynamically ## not very efficeint\n",
    "plt.figure(figsize=(12,12))\n",
    "for coord in tqdm(coords[::50]) :\n",
    "    plt.plot(coord[0], coord[1], 'o', 'r')\n",
    "    clear_output(wait= True)\n",
    "    plt.show()\n",
    "# plt.scatter(xs, ys )\n"
   ]
  },
  {
   "cell_type": "code",
   "execution_count": 8,
   "metadata": {},
   "outputs": [
    {
     "data": {
      "image/png": "[encoded data removed]",
      "text/plain": [
       "<Figure size 864x864 with 1 Axes>"
      ]
     },
     "metadata": {
      "needs_background": "light"
     },
     "output_type": "display_data"
    }
   ],
   "source": [
    "## visualise spots visited  ##\n",
    "plt.figure(figsize=(12,12))\n",
    "# for coord in tqdm(coords) :\n",
    "#     plt.plot(xs, ys, '-o', 'r')\n",
    "plt.scatter(xs, ys )\n",
    "plt.show()"
   ]
  },
  {
   "cell_type": "code",
   "execution_count": null,
   "metadata": {},
   "outputs": [],
   "source": [
    "plt.scatter( )"
   ]
  }
 ],
 "metadata": {
  "kernelspec": {
   "display_name": "Python 3.10.6 64-bit",
   "language": "python",
   "name": "python3"
  },
  "language_info": {
   "codemirror_mode": {
    "name": "ipython",
    "version": 3
   },
   "file_extension": ".py",
   "mimetype": "text/x-python",
   "name": "python",
   "nbconvert_exporter": "python",
   "pygments_lexer": "ipython3",
   "version": "3.10.6"
  },
  "orig_nbformat": 4,
  "vscode": {
   "interpreter": {
    "hash": "916dbcbb3f70747c44a77c7bcd40155683ae19c65e1c03b4aa3499c5328201f1"
   }
  }
 },
 "nbformat": 4,
 "nbformat_minor": 2
}
