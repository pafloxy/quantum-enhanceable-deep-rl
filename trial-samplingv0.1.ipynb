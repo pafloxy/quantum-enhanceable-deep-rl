{
 "cells": [
  {
   "cell_type": "code",
   "execution_count": 1,
   "metadata": {},
   "outputs": [],
   "source": [
    "import torch\n",
    "from agents.debn_ps import *\n",
    "from environments.env_gridworld import *\n",
    "from tqdm import tqdm \n",
    "from torchsummary import summary\n",
    "from torch import tensor\n",
    "\n",
    "import seaborn as sns\n",
    "import matplotlib\n",
    "%matplotlib inline \n",
    "import  matplotlib.pyplot as plt\n",
    "from IPython.display import display, clear_output\n",
    "sns.set()\n",
    "\n",
    "from qumcmc.classical_mcmc_routines import * \n",
    "from qumcmc.quantum_mcmc_routines_qulacs import *\n",
    "from qumcmc.energy_models import IsingEnergyFunction, Exact_Sampling\n",
    "from qumcmc.basic_utils import plot_multiple_bargraphs\n",
    "from agents.enhanced_samplng import *"
   ]
  },
  {
   "attachments": {},
   "cell_type": "markdown",
   "metadata": {},
   "source": [
    "#### **PREPARE AGENT AND ENVIRONMENT**"
   ]
  },
  {
   "cell_type": "code",
   "execution_count": 2,
   "metadata": {},
   "outputs": [
    {
     "name": "stderr",
     "output_type": "stream",
     "text": [
      "running episodes: 100%|██████████| 100/100 [00:05<00:00, 19.75it/s]\n"
     ]
    }
   ],
   "source": [
    "# INTERACTION PARAMETERS #\n",
    "#------------------------#\n",
    "EPISODES = 100  # number of episodes for each agent 2000\n",
    "MAX_STEPS_PER_TRIAL = 50  # number of allowed timesteps before reset 20000\n",
    "\n",
    "#agent parameters\n",
    "AGENT_NUMBER = 1\n",
    "DEVICE = 'cpu'\n",
    "AGENT_NAME = 'ebm'\n",
    "\n",
    "GAMMA = 0.99 # discount factor\n",
    "hidden_layers = 1 # number of hidden layers\n",
    "hidden_units_layer = 5 # number of hidden units\n",
    "NUM_HIDDEN = [int(round(hidden_units_layer))]*hidden_layers # list of hidden unit numbers list\n",
    "DROPOUT = [0.]*hidden_layers # dropout rate list\n",
    "LEARNING_RATE = 0.001 # learning rate\n",
    "CAPACITY = 500 # size of the memory\n",
    "BATCH_SIZE = 100 # size of the training batch for experience replay\n",
    "REPLAY_TIME = 50 # the time interval between each experience replay\n",
    "TARGET_UPDATE = 100 # update interval for the target network\n",
    "SAVE_MODEL = False #set to true to save state dict\n",
    "\n",
    "BETA_i = 0.001 # initial beta parameter for schedule\n",
    "BETA_f = 0.08 # final beta parameter for schedule\n",
    "SCHEDULE = 'htan' # name of the schedule\n",
    "if SCHEDULE == 'htan':\n",
    "    beta = np.tanh(np.linspace(BETA_i, BETA_f, EPISODES)) # tanh schedule\n",
    "elif SCHEDULE =='lin':\n",
    "    beta = np.linspace(BETA_i, BETA_f, EPISODES) # linear scchedule\n",
    "\n",
    "# ENVIRONMENT PARAMETERS\n",
    "ENV_NAME = 'gridworld' # environment name\n",
    "DIMENSIONS = [4,4] # 2D grid of size [10,10]\n",
    "env = TaskEnvironment(DIMENSIONS) #generate environment\n",
    "\n",
    "## 'percept_size' depends on the encdoing \n",
    "percept_size_oneh = DIMENSIONS[0]*DIMENSIONS[1] #size of the percept space \n",
    "percept_size_twoh = DIMENSIONS[0]+DIMENSIONS[1] #size of the percept space\n",
    "\n",
    "action_size = 4 # size of the action space\n",
    "\n",
    "#action encoding\n",
    "all_actions = torch.empty(0)\n",
    "for i in range(action_size):\n",
    "    a = torch.zeros((1, 1, action_size))\n",
    "    a = a.new_full((1, 1, action_size), 0.)\n",
    "    a[0, 0, i] = 1.\n",
    "    all_actions = torch.cat((all_actions, a))\n",
    "\n",
    "#percept encoding\n",
    "def to_two_hot(percept, dim):\n",
    "    \"\"\"\n",
    "    Two-hot encodes the 2D percept of positions.\n",
    "    \"\"\"\n",
    "    two_hot = np.zeros(dim[0]+dim[1]) ##added\n",
    "    two_hot[percept[0]] = 1\n",
    "    two_hot[dim[0]+percept[1]] = 1\n",
    "    return two_hot\n",
    "\n",
    "\n",
    "#percept encoding\n",
    "def to_one_hot(percept, dim):\n",
    "    \"\"\"\n",
    "    One-hot encodes the 2D percept of positions.\n",
    "    \"\"\"\n",
    "    one_hot = np.zeros(dim[0]*dim[1]) ## multiplied\n",
    "    \n",
    "    one_hot[dim[0]*percept[0] + percept[1]] = 1\n",
    "    \n",
    "    return one_hot    \n",
    "\n",
    "# DEFINE AGENT           #\n",
    "#------------------------#\n",
    "agent = DEBNAgent(percept_size_twoh, action_size, all_actions, dim_hidden=NUM_HIDDEN, dropout_rate=DROPOUT,\n",
    "                    device = DEVICE, learning_rate=LEARNING_RATE, capacity=CAPACITY, batch_size=BATCH_SIZE, replay_time=REPLAY_TIME,\n",
    "                    target_update = TARGET_UPDATE, gamma = GAMMA, train_output_weights = False)\n",
    "\n",
    "# EPISODES = 100\n",
    "# MAX_STEPS_PER_TRIAL = 100\n",
    "verbose = False\n",
    "coords = []\n",
    "# RUN TRAINING STEPS     #\n",
    "#------------------------#\n",
    "timesteps = []\n",
    "for e in tqdm(range(EPISODES), desc= 'running episodes'):\n",
    "    counter = 0\n",
    "    #reset the environment\n",
    "    percept = env.reset()\n",
    "    coords.append(percept) ## coords stroing \n",
    "    # percept = to_one_hot(percept,DIMENSIONS)\n",
    "    # percept = np.reshape(percept, [1, percept_size_oneh])\n",
    "    percept = to_two_hot(percept,DIMENSIONS)\n",
    "    percept = np.reshape(percept, [1, percept_size_twoh])\n",
    "    percept = torch.Tensor(percept)\n",
    "    reward = 0.\n",
    "    done = False\n",
    "    # for t in tqdm(range(1, MAX_STEPS_PER_TRIAL + 1), desc= 'runnnig episode . .. '+str(e) ):\n",
    "    for t in range(1, MAX_STEPS_PER_TRIAL + 1):\n",
    "        \n",
    "        action = agent.deliberate_and_learn(percept, None, reward, GAMMA, done, beta[e])\n",
    "        action = (action[0] == 1).nonzero().item()\n",
    "        percept, reward, done, _ = env.step(action)\n",
    "        coords.append(percept) ## coords storing \n",
    "\n",
    "        if verbose :  print('action : '+str( action) + ' percept : ' + str(percept) + ' reward : '+ str( reward))\n",
    "        # percept = to_one_hot(percept, DIMENSIONS)\n",
    "        # percept = np.reshape(percept, [1, percept_size_oneh])\n",
    "        percept = to_two_hot(percept,DIMENSIONS)\n",
    "        percept = np.reshape(percept, [1, percept_size_twoh])\n",
    "        percept = torch.Tensor(percept)\n",
    "        \n",
    "        if t==MAX_STEPS_PER_TRIAL:\n",
    "            reward = -1\n",
    "            done = True\n",
    "        if done:\n",
    "            agent.deliberate_and_learn(percept, None, reward, GAMMA, done, beta[e])\n",
    "            timesteps.append(t)\n",
    "            break\n",
    "\n",
    "    if e%100 == 0:\n",
    "        if verbose : print(\"Average last 100 scores (timesteps per episode) the agent achieved at \" + str(e) + \": \", np.mean(timesteps[-100:]))\n",
    "        # save data to file\n",
    "\n",
    "## get trajectory plotting data ##\n",
    "xs = []; ys = []\n",
    "for coord in coords: \n",
    "    xs.append(coord[0])\n",
    "    ys.append(coord[1])"
   ]
  },
  {
   "attachments": {},
   "cell_type": "markdown",
   "metadata": {},
   "source": [
    "##### Visualise trajectory"
   ]
  },
  {
   "cell_type": "code",
   "execution_count": 3,
   "metadata": {},
   "outputs": [],
   "source": [
    "# ## visualise trajectory dynamically ## not very efficeint\n",
    "# plt.figure(figsize=(12,12))\n",
    "# for coord in tqdm(coords) :\n",
    "#     plt.plot(coord[0], coord[1], 'o', 'r')\n",
    "#     clear_output(wait= True)\n",
    "#     plt.show()"
   ]
  },
  {
   "cell_type": "code",
   "execution_count": 4,
   "metadata": {},
   "outputs": [],
   "source": [
    "# ## visualise spots visited  ##\n",
    "# plt.figure(figsize=(12,12))\n",
    "# # for coord in tqdm(coords) :\n",
    "# #     plt.plot(xs, ys, '-o', 'r')\n",
    "# plt.scatter(xs, ys )\n",
    "# plt.show()"
   ]
  },
  {
   "attachments": {},
   "cell_type": "markdown",
   "metadata": {},
   "source": [
    "#### **TEST SAMPLING**"
   ]
  },
  {
   "cell_type": "code",
   "execution_count": 5,
   "metadata": {},
   "outputs": [
    {
     "name": "stdout",
     "output_type": "stream",
     "text": [
      "=============================================\n",
      "            MODEL : DEBN\n",
      "=============================================\n",
      "Non-zero Interactions (J) : 60 / 136\n",
      "Non-zero Bias (h) : 17 / 17\n",
      "---------------------------------------------\n",
      "Average Interaction Strength <|J|> :  0.15221341924941664\n",
      "Average Bias Strength <|h|>:  0.13867557\n",
      "alpha :  1.226453396223818\n",
      "---------------------------------------------\n"
     ]
    },
    {
     "data": {
      "image/png": "[encoded data removed]",
      "text/plain": [
       "<Figure size 1152x720 with 2 Axes>"
      ]
     },
     "metadata": {},
     "output_type": "display_data"
    }
   ],
   "source": [
    "net_model = build_energy_model(agent.policy_net)\n",
    "net_model.model_summary()"
   ]
  },
  {
   "attachments": {},
   "cell_type": "markdown",
   "metadata": {},
   "source": [
    "##### Classical Sampling"
   ]
  },
  {
   "cell_type": "code",
   "execution_count": 6,
   "metadata": {},
   "outputs": [],
   "source": [
    "rsmpc = RestrictedSampling(net_model, hidden_units_layer, action_size, percept_size_twoh, percept_to_str(percept))\n",
    "clchn = rsmpc.run_classical_mcmc(100, verbose= False);\n",
    "cdct = clchn.get_accepted_dict(normalize= True)"
   ]
  },
  {
   "attachments": {},
   "cell_type": "markdown",
   "metadata": {},
   "source": [
    "##### Quantum Sampling"
   ]
  },
  {
   "cell_type": "code",
   "execution_count": 7,
   "metadata": {},
   "outputs": [
    {
     "name": "stdout",
     "output_type": "stream",
     "text": [
      "current state:  MCMCState(hidden='10111', action='1101', state='01000010', accepted=True)\n"
     ]
    },
    {
     "name": "stderr",
     "output_type": "stream",
     "text": [
      "runnning quantum MCMC steps . ..: 100%|██████████| 100/100 [03:31<00:00,  2.11s/it]\n"
     ]
    }
   ],
   "source": [
    "rsmpq = RestrictedSampling(net_model, hidden_units_layer, action_size, percept_size_twoh, percept_to_str(percept))\n",
    "qchn = rsmpq.run_quantum_enhanced_mcmc(100, verbose=True)\n",
    "qdct = qchn.get_accepted_dict(normalize=True)"
   ]
  },
  {
   "cell_type": "code",
   "execution_count": 12,
   "metadata": {},
   "outputs": [
    {
     "data": {
      "text/plain": [
       "(tensor([[0., 1., 0., 0., 0., 0., 1., 0.]]), '01000010')"
      ]
     },
     "execution_count": 12,
     "metadata": {},
     "output_type": "execute_result"
    }
   ],
   "source": [
    "percept, percept_to_str(percept)"
   ]
  },
  {
   "cell_type": "code",
   "execution_count": 13,
   "metadata": {},
   "outputs": [
    {
     "data": {
      "text/plain": [
       "{tensor([[1., 0., 0., 0.]]): 0.28334098495233245,\n",
       " tensor([[0., 1., 0., 0.]]): 0.2610121782132641,\n",
       " tensor([[0., 0., 1., 0.]]): 0.19028911634221038,\n",
       " tensor([[0., 0., 0., 1.]]): 0.26535772049219297}"
      ]
     },
     "execution_count": 13,
     "metadata": {},
     "output_type": "execute_result"
    }
   ],
   "source": [
    "dict(zip(agent.all_actions, agent._choose_action(percept, return_prob_vals= True)))"
   ]
  },
  {
   "cell_type": "code",
   "execution_count": 14,
   "metadata": {},
   "outputs": [
    {
     "data": {
      "text/plain": [
       "Counter({'110101000010': 0.08333333333333333,\n",
       "         '011101000010': 0.08333333333333333,\n",
       "         '001101000010': 0.08333333333333333,\n",
       "         '100001000010': 0.25,\n",
       "         '100101000010': 0.16666666666666666,\n",
       "         '011001000010': 0.08333333333333333,\n",
       "         '111001000010': 0.08333333333333333,\n",
       "         '000101000010': 0.16666666666666666})"
      ]
     },
     "execution_count": 14,
     "metadata": {},
     "output_type": "execute_result"
    }
   ],
   "source": [
    "qdct"
   ]
  },
  {
   "cell_type": "code",
   "execution_count": 15,
   "metadata": {},
   "outputs": [
    {
     "data": {
      "text/plain": [
       "Counter({'000001000010': 0.75, '011001000010': 0.25})"
      ]
     },
     "execution_count": 15,
     "metadata": {},
     "output_type": "execute_result"
    }
   ],
   "source": [
    "cdct"
   ]
  },
  {
   "cell_type": "code",
   "execution_count": null,
   "metadata": {},
   "outputs": [],
   "source": []
  }
 ],
 "metadata": {
  "kernelspec": {
   "display_name": "Python 3",
   "language": "python",
   "name": "python3"
  },
  "language_info": {
   "codemirror_mode": {
    "name": "ipython",
    "version": 3
   },
   "file_extension": ".py",
   "mimetype": "text/x-python",
   "name": "python",
   "nbconvert_exporter": "python",
   "pygments_lexer": "ipython3",
   "version": "3.10.6"
  },
  "orig_nbformat": 4,
  "vscode": {
   "interpreter": {
    "hash": "916dbcbb3f70747c44a77c7bcd40155683ae19c65e1c03b4aa3499c5328201f1"
   }
  }
 },
 "nbformat": 4,
 "nbformat_minor": 2
}
